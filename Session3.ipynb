{
  "cells": [
    {
      "cell_type": "markdown",
      "metadata": {
        "id": "hlAVbNv-ILYA"
      },
      "source": [
        "# Session 3"
      ]
    },
    {
      "cell_type": "markdown",
      "metadata": {
        "id": "RETaDMjwILYM"
      },
      "source": [
        "## CNN Main Points"
      ]
    },
    {
      "cell_type": "markdown",
      "metadata": {
        "id": "hM6aJH74ILYN"
      },
      "source": [
        "Developing deep learning models, we started stacking fully connected layers (Dense Layers) applying forward and backward propagartion to train the model reducing error metric. Working with image data we found that it worked just fine for small images but it breaks down for larger images because of the huge number of parameters it requires.\n",
        "\n",
        "For example, a 100 × 100 image has 10,000 pixels, and if the first layer has just 1,000 neurons (which already severely\n",
        "restricts the amount of information transmitted to the next layer), this means a total of 10 million connections. And that’s just the first layer.\n",
        "\n",
        "CNNs solve this problem using ***partially connected layers*** and ***weight sharing***.\n",
        "\n",
        "What's CNN?\n",
        "\n",
        "Convolutional Neural Networks utilized the idea of image-filter convolution (typically cross corrolation) to specify receptive field with the size of the filter resulting in a feature map.\n",
        "\n",
        "**partially connected layers** means that withing the stacked CNN layers. The neurons in a layer are not *fully* connected to the neurons in the previous layer. Instead, they are connected to neurons in their receptive field (size of the filter) mimicing the architecture of the visual cortex, enabling the network to combine low-level features into more complex features.\n",
        "\n",
        "**weight sharing** means that the neurons (pixels) in the same feature map share the same weights (filter values). And, the model can have multiple filters (and multiple feature maps accordingly) to inspect more feature combinations.\n",
        "\n",
        "The fact that all neurons in a feature map share the same parameters dramatically reduces the number of parameters in the model making it faster to train and reduces overfitting. Moreover, once the CNN has learned to recognize a pattern in one location, it can recognize it in any other location. In contrast, once a regular DNN has learned to recognize a pattern in one location, it can recognize it only in that particular location.\n",
        "\n",
        "CNN receives the input image in its natural shape (2d with multiple channels) without flatten the input to 1d,which makes it easier to match neurons with their corresponding inputs.\n",
        "\n",
        "Following the CNN layer, comes the pooling layer. The pooling layer defines a static (non trainable) kernel to apply an aggregate function (maxing, averaging) over it. For example, taking the maximum value out of 9 values over a 3x3 square filter. This reduces the dimensions making the model faster to train, reduces the computational load, the memory usage, and the number of parameters\n",
        "(thereby limiting the risk of overfitting). \n",
        "\n",
        "Moreover, it introduces some variance to the model making it robust to some changes line translation or scaling.\n",
        "\n",
        "The pooling layer subsampling algorithm can be too destructive to tolerate in some applications.\n",
        "\n",
        "**CNN and pooling layer hyperparameters include:**\n",
        "- Number of filters (number of feature maps the layer produces)\n",
        "- Size of the filter (receptive field)\n",
        "- Layer activation function\n",
        "- Horizontal and vertical stride (number of pixels to slide over while scanning the input with the filter)\n",
        "- Padding typing (how to deal with the borders)\n",
        "- Pooling layer kernel size\n",
        "\n",
        "**Some tips building CNN models:**\n",
        "- It's preferable to use multiple layers with small kernels than using one layer with larger kernel\n",
        "For example, instead of using a convolutional layer with a 5 × 5 kernel, it is generally preferable to stack two layers with 3 × 3 kernels: it will use less parameters and require less computations, and it will usually perform better. One exception to this recommendation is for the first convolutional layer: it can typically have a large kernel (e.g., 5 × 5), usually with stride of 2 or more: this will reduce the spatial dimension of the image without losing too much information.\n",
        "\n",
        "\n",
        "- It's recommened to start with smaller number of kernels in the early layers, then increase it to larger number with the following layers. As, the low-level features' number is usually small (lines, small circles, etc.), but there are many different ways to combine them into higher level features. It is a common practice to double the number of filters after each pooling layer: since a pooling layer divides each spatial dimension by a factor (let's say a factor of 2), we can afford doubling the number of feature maps in the next layer, without fear of exploding the number of parameters, memory usage, or computational load.\n",
        "\n",
        "- It's recommened to go for ReLU and its variations as an activation funciton. Do you remember why ?\n",
        "- You can manipulate the stride to control the size of the consecutive layers.\n",
        "- If training crashes because of an out-of-memory error, you can try reducing the mini-batch size. Alternatively, you can try reducing dimensionality using a stride, or removing a few layers. Or you can try using 16-bit floats instead of 32-bit floats. Or you could distribute the CNN across multiple devices.\n",
        "\n",
        "- You can always utilize literature and pre-trained models using transfer learning"
      ]
    },
    {
      "cell_type": "markdown",
      "metadata": {
        "id": "xcPeE3tuILYR"
      },
      "source": [
        "## CIFAR 10"
      ]
    },
    {
      "cell_type": "markdown",
      "metadata": {
        "id": "luRJwXl0ILYS"
      },
      "source": [
        "The CIFAR-10 dataset contains small photos belonging to 10 classes. It is usually used in classification tasks as a standard dataset for computer vision and deep learning research or learning purposes."
      ]
    },
    {
      "cell_type": "markdown",
      "metadata": {
        "id": "XX0UExISILYS"
      },
      "source": [
        "### Dataset description, loading and preprocessing"
      ]
    },
    {
      "cell_type": "markdown",
      "metadata": {
        "id": "EHv5kRaIILYT"
      },
      "source": [
        "Canadian Institute For Advanced Research (CIFAR) developed this dataset for researchers along with CIFAR-100 (similar dataset with 100 classes). It contains 60,000 23x23 pixel color images and the 10 classes as follows:\n",
        "\n",
        "0: airplane\n",
        "1: automobile\n",
        "2: bird\n",
        "3: cat\n",
        "4: deer\n",
        "5: dog\n",
        "6: frog\n",
        "7: horse\n",
        "8: ship\n",
        "9: truck\n",
        "\n",
        "The CIFAR problem is solved, meaning that's straightforward to achieve 80% classification accuracy. Top performance on the problem is achieved by deep learning convolutional neural networks with a classification accuracy above 90% on the test dataset.\n",
        "\n",
        "You can check this [link](https://paperswithcode.com/sota/image-classification-on-cifar-10) for more information about successfull models, their ranking and thier scores, papers, etc."
      ]
    },
    {
      "cell_type": "code",
      "execution_count": 1,
      "metadata": {
        "id": "7VvF20wFILYU"
      },
      "outputs": [],
      "source": [
        "from matplotlib import pyplot\n",
        "from tensorflow.keras.datasets import cifar10\n",
        "from tensorflow.keras.utils import to_categorical\n",
        "from tensorflow.keras.models import Sequential\n",
        "from tensorflow.keras.layers import Conv2D\n",
        "from tensorflow.keras.layers import MaxPooling2D\n",
        "from tensorflow.keras.layers import Dense\n",
        "from tensorflow.keras.layers import Flatten"
      ]
    },
    {
      "cell_type": "code",
      "execution_count": 2,
      "metadata": {
        "id": "RMHLcD8jILYW"
      },
      "outputs": [],
      "source": [
        "# load dataset\n",
        "(trainX, trainY), (testX, testY) = cifar10.load_data()\n",
        "# one hot encode target values\n",
        "trainY = to_categorical(trainY)\n",
        "testY = to_categorical(testY)"
      ]
    },
    {
      "cell_type": "code",
      "execution_count": 3,
      "metadata": {
        "colab": {
          "base_uri": "https://localhost:8080/"
        },
        "id": "00fP928oILYY",
        "outputId": "9a2130cd-09c4-4270-e9ba-bcfa5cd3f3cc"
      },
      "outputs": [
        {
          "name": "stdout",
          "output_type": "stream",
          "text": [
            "(50000, 32, 32, 3)\n",
            "(10000, 10)\n",
            "(50000, 32, 32, 3)\n",
            "(10000, 10)\n"
          ]
        }
      ],
      "source": [
        "print(trainX.shape)\n",
        "print(testY.shape)\n",
        "print(trainX.shape)\n",
        "print(testY.shape)"
      ]
    },
    {
      "cell_type": "code",
      "execution_count": 4,
      "metadata": {
        "colab": {
          "base_uri": "https://localhost:8080/",
          "height": 268
        },
        "id": "6kPnVSOiILYa",
        "outputId": "414ed438-4824-4ce1-8866-cf9975b90b91"
      },
      "outputs": [
        {
          "data": {
            "image/png": "[encoded data removed]",
            "text/plain": [
              "<Figure size 432x288 with 9 Axes>"
            ]
          },
          "metadata": {
            "needs_background": "light"
          },
          "output_type": "display_data"
        }
      ],
      "source": [
        "from matplotlib import pyplot\n",
        "for i in range(9):\n",
        "\t# define subplot\n",
        "\tpyplot.subplot(330 + 1 + i)\n",
        "\t# plot raw pixel data\n",
        "\tpyplot.imshow(trainX[i])\n",
        "# show the figure\n",
        "pyplot.show()"
      ]
    },
    {
      "cell_type": "code",
      "execution_count": 5,
      "metadata": {
        "id": "Kc0-lw3JILYb"
      },
      "outputs": [],
      "source": [
        "# convert from integers to floats\n",
        "train_norm = trainX.astype('float32')\n",
        "test_norm = testX.astype('float32')\n",
        "# normalize to range 0-1\n",
        "train_norm = train_norm / 255.0\n",
        "test_norm = test_norm / 255.0"
      ]
    },
    {
      "cell_type": "code",
      "execution_count": 6,
      "metadata": {
        "id": "G9rajBnkoAfQ"
      },
      "outputs": [],
      "source": [
        "from sklearn.model_selection import train_test_split"
      ]
    },
    {
      "cell_type": "code",
      "execution_count": 7,
      "metadata": {
        "id": "T2B7SiPAoPkD"
      },
      "outputs": [],
      "source": [
        "X_train, X_val, y_train, y_val = train_test_split(train_norm, trainY, test_size= 0.1, random_state= 42)"
      ]
    },
    {
      "cell_type": "code",
      "execution_count": 8,
      "metadata": {
        "id": "pdZ14yPGopZL"
      },
      "outputs": [],
      "source": [
        "X_test = test_norm\n",
        "y_test = testY\n"
      ]
    },
    {
      "cell_type": "code",
      "execution_count": 9,
      "metadata": {
        "colab": {
          "base_uri": "https://localhost:8080/"
        },
        "id": "w7baJ16go3iS",
        "outputId": "0d945ee4-c911-4473-e83f-4dec3addd5dc"
      },
      "outputs": [
        {
          "name": "stdout",
          "output_type": "stream",
          "text": [
            "(45000, 32, 32, 3)\n",
            "(5000, 32, 32, 3)\n",
            "(10000, 32, 32, 3)\n",
            "(45000, 10)\n",
            "(5000, 10)\n",
            "(10000, 10)\n"
          ]
        }
      ],
      "source": [
        "print(X_train.shape)\n",
        "print(X_val.shape)\n",
        "print(X_test.shape)\n",
        "print(y_train.shape)\n",
        "print(y_val.shape)\n",
        "print(y_test.shape)"
      ]
    },
    {
      "cell_type": "code",
      "execution_count": 10,
      "metadata": {
        "id": "zzIHklMODGNI"
      },
      "outputs": [],
      "source": [
        "del trainX, testX, testY, trainY"
      ]
    },
    {
      "cell_type": "markdown",
      "metadata": {
        "id": "Y_ec7TboILYb"
      },
      "source": [
        "### Baseline Model"
      ]
    },
    {
      "cell_type": "code",
      "execution_count": 11,
      "metadata": {
        "id": "Nx1IFBMiILYc"
      },
      "outputs": [],
      "source": [
        "model = Sequential()\n",
        "model.add(Conv2D(32, (3, 3), activation='relu', kernel_initializer='he_uniform', padding='same', input_shape=(32, 32, 3)))\n",
        "model.add(Conv2D(32, (3, 3), activation='relu', kernel_initializer='he_uniform', padding='same'))\n",
        "model.add(MaxPooling2D((2, 2)))\n",
        "model.add(Flatten())\n",
        "model.add(Dense(128, activation='relu', kernel_initializer='he_uniform'))\n",
        "model.add(Dense(10, activation='softmax'))\n",
        "# compile model\n",
        "model.compile(optimizer='adam', loss='categorical_crossentropy', metrics=['accuracy'])"
      ]
    },
    {
      "cell_type": "code",
      "execution_count": 12,
      "metadata": {
        "colab": {
          "base_uri": "https://localhost:8080/"
        },
        "id": "2cmGGiRGnHu8",
        "outputId": "0730c861-cffa-45ef-dd66-9b4b8fb2e744"
      },
      "outputs": [
        {
          "name": "stdout",
          "output_type": "stream",
          "text": [
            "Model: \"sequential\"\n",
            "_________________________________________________________________\n",
            " Layer (type)                Output Shape              Param #   \n",
            "=================================================================\n",
            " conv2d (Conv2D)             (None, 32, 32, 32)        896       \n",
            "                                                                 \n",
            " conv2d_1 (Conv2D)           (None, 32, 32, 32)        9248      \n",
            "                                                                 \n",
            " max_pooling2d (MaxPooling2D  (None, 16, 16, 32)       0         \n",
            " )                                                               \n",
            "                                                                 \n",
            " flatten (Flatten)           (None, 8192)              0         \n",
            "                                                                 \n",
            " dense (Dense)               (None, 128)               1048704   \n",
            "                                                                 \n",
            " dense_1 (Dense)             (None, 10)                1290      \n",
            "                                                                 \n",
            "=================================================================\n",
            "Total params: 1,060,138\n",
            "Trainable params: 1,060,138\n",
            "Non-trainable params: 0\n",
            "_________________________________________________________________\n"
          ]
        }
      ],
      "source": [
        "model.summary()"
      ]
    },
    {
      "cell_type": "code",
      "execution_count": 13,
      "metadata": {
        "colab": {
          "base_uri": "https://localhost:8080/"
        },
        "id": "WLIT4FgPILYc",
        "outputId": "b5845de5-552c-4baf-af4e-e312845a252a"
      },
      "outputs": [
        {
          "name": "stdout",
          "output_type": "stream",
          "text": [
            "Epoch 1/20\n",
            "704/704 [==============================] - 12s 12ms/step - loss: 1.4073 - accuracy: 0.5054 - val_loss: 1.1326 - val_accuracy: 0.6098\n",
            "Epoch 2/20\n",
            "704/704 [==============================] - 7s 10ms/step - loss: 0.9894 - accuracy: 0.6555 - val_loss: 0.9773 - val_accuracy: 0.6580\n",
            "Epoch 3/20\n",
            "704/704 [==============================] - 5s 7ms/step - loss: 0.8373 - accuracy: 0.7068 - val_loss: 0.9311 - val_accuracy: 0.6686\n",
            "Epoch 4/20\n",
            "704/704 [==============================] - 7s 9ms/step - loss: 0.7183 - accuracy: 0.7498 - val_loss: 0.9184 - val_accuracy: 0.6794\n",
            "Epoch 5/20\n",
            "704/704 [==============================] - 6s 9ms/step - loss: 0.6143 - accuracy: 0.7839 - val_loss: 0.9538 - val_accuracy: 0.6808\n",
            "Epoch 6/20\n",
            "704/704 [==============================] - 6s 8ms/step - loss: 0.5075 - accuracy: 0.8226 - val_loss: 0.9973 - val_accuracy: 0.6758\n",
            "Epoch 7/20\n",
            "704/704 [==============================] - 5s 7ms/step - loss: 0.4142 - accuracy: 0.8572 - val_loss: 1.0625 - val_accuracy: 0.6786\n",
            "Epoch 8/20\n",
            "704/704 [==============================] - 5s 7ms/step - loss: 0.3259 - accuracy: 0.8884 - val_loss: 1.1595 - val_accuracy: 0.6742\n",
            "Epoch 9/20\n",
            "704/704 [==============================] - 5s 7ms/step - loss: 0.2479 - accuracy: 0.9149 - val_loss: 1.3383 - val_accuracy: 0.6662\n",
            "Epoch 10/20\n",
            "704/704 [==============================] - 5s 7ms/step - loss: 0.1901 - accuracy: 0.9367 - val_loss: 1.5326 - val_accuracy: 0.6554\n",
            "Epoch 11/20\n",
            "704/704 [==============================] - 5s 7ms/step - loss: 0.1495 - accuracy: 0.9496 - val_loss: 1.7159 - val_accuracy: 0.6490\n",
            "Epoch 12/20\n",
            "704/704 [==============================] - 5s 8ms/step - loss: 0.1143 - accuracy: 0.9616 - val_loss: 1.8365 - val_accuracy: 0.6558\n",
            "Epoch 13/20\n",
            "704/704 [==============================] - 5s 7ms/step - loss: 0.1000 - accuracy: 0.9675 - val_loss: 1.9779 - val_accuracy: 0.6668\n",
            "Epoch 14/20\n",
            "704/704 [==============================] - 5s 8ms/step - loss: 0.0925 - accuracy: 0.9686 - val_loss: 2.0284 - val_accuracy: 0.6592\n",
            "Epoch 15/20\n",
            "704/704 [==============================] - 6s 9ms/step - loss: 0.0810 - accuracy: 0.9732 - val_loss: 2.1331 - val_accuracy: 0.6544\n",
            "Epoch 16/20\n",
            "704/704 [==============================] - 6s 8ms/step - loss: 0.0759 - accuracy: 0.9746 - val_loss: 2.2245 - val_accuracy: 0.6598\n",
            "Epoch 17/20\n",
            "704/704 [==============================] - 6s 8ms/step - loss: 0.0650 - accuracy: 0.9783 - val_loss: 2.4221 - val_accuracy: 0.6524\n",
            "Epoch 18/20\n",
            "704/704 [==============================] - 5s 7ms/step - loss: 0.0514 - accuracy: 0.9831 - val_loss: 2.4992 - val_accuracy: 0.6634\n",
            "Epoch 19/20\n",
            "704/704 [==============================] - 5s 7ms/step - loss: 0.0687 - accuracy: 0.9773 - val_loss: 2.5534 - val_accuracy: 0.6542\n",
            "Epoch 20/20\n",
            "704/704 [==============================] - 5s 8ms/step - loss: 0.0597 - accuracy: 0.9803 - val_loss: 2.6214 - val_accuracy: 0.6592\n"
          ]
        }
      ],
      "source": [
        "history = model.fit(X_train, y_train, epochs=20, batch_size=64, validation_data= (X_val, y_val), verbose=1)"
      ]
    },
    {
      "cell_type": "code",
      "execution_count": 14,
      "metadata": {
        "colab": {
          "base_uri": "https://localhost:8080/"
        },
        "id": "fCLj7FNoILYc",
        "outputId": "1cb56d22-9f1a-4217-dec8-b51ed5c36f56"
      },
      "outputs": [
        {
          "name": "stdout",
          "output_type": "stream",
          "text": [
            "313/313 [==============================] - 2s 5ms/step - loss: 2.7444 - accuracy: 0.6476\n",
            "> 64.760\n"
          ]
        }
      ],
      "source": [
        "_, acc = model.evaluate(X_test, y_test, verbose=1)\n",
        "print('> %.3f' % (acc * 100.0))"
      ]
    },
    {
      "cell_type": "code",
      "execution_count": 15,
      "metadata": {
        "colab": {
          "base_uri": "https://localhost:8080/",
          "height": 299
        },
        "id": "u5x0ERHEILYd",
        "outputId": "6406288f-406f-4582-ced9-54860ed08231"
      },
      "outputs": [
        {
          "data": {
            "text/plain": [
              "[<matplotlib.lines.Line2D at 0x7fb28194e490>]"
            ]
          },
          "execution_count": 15,
          "metadata": {},
          "output_type": "execute_result"
        },
        {
          "data": {
            "image/png": "[encoded data removed]",
            "text/plain": [
              "<Figure size 432x288 with 2 Axes>"
            ]
          },
          "metadata": {
            "needs_background": "light"
          },
          "output_type": "display_data"
        }
      ],
      "source": [
        "pyplot.subplot(211)\n",
        "pyplot.title('Cross Entropy Loss')\n",
        "pyplot.plot(history.history['loss'], color='blue', label='train')\n",
        "pyplot.plot(history.history['val_loss'], color='orange', label='test')\n",
        "# plot accuracy\n",
        "pyplot.subplot(212)\n",
        "pyplot.title('Classification Accuracy')\n",
        "pyplot.plot(history.history['accuracy'], color='blue', label='train')\n",
        "pyplot.plot(history.history['val_accuracy'], color='orange', label='test')"
      ]
    },
    {
      "cell_type": "markdown",
      "metadata": {
        "id": "iXct-vkGILYd"
      },
      "source": [
        "### Model Improvement"
      ]
    },
    {
      "cell_type": "markdown",
      "metadata": {
        "id": "aR4F9Q0vILYd"
      },
      "source": [
        "**Improvement 1**"
      ]
    },
    {
      "cell_type": "code",
      "execution_count": 16,
      "metadata": {
        "id": "mZdMyjqRILYe"
      },
      "outputs": [],
      "source": [
        "model = Sequential()\n",
        "model.add(Conv2D(32, (3, 3), activation='relu', kernel_initializer='he_uniform', padding='same', input_shape=(32, 32, 3)))\n",
        "model.add(Conv2D(32, (3, 3), activation='relu', kernel_initializer='he_uniform', padding='same'))\n",
        "model.add(MaxPooling2D((2, 2)))\n",
        "model.add(Conv2D(64, (3, 3), activation='relu', kernel_initializer='he_uniform', padding='same'))\n",
        "model.add(Conv2D(64, (3, 3), activation='relu', kernel_initializer='he_uniform', padding='same'))\n",
        "model.add(MaxPooling2D((2, 2)))\n",
        "model.add(Flatten())\n",
        "model.add(Dense(128, activation='relu', kernel_initializer='he_uniform'))\n",
        "model.add(Dense(10, activation='softmax'))\n",
        "# compile model\n",
        "model.compile(optimizer='adam', loss='categorical_crossentropy', metrics=['accuracy'])"
      ]
    },
    {
      "cell_type": "code",
      "execution_count": 17,
      "metadata": {
        "colab": {
          "base_uri": "https://localhost:8080/"
        },
        "id": "wE_-nZo0ILYe",
        "outputId": "e2d66370-1c40-4ca1-a0be-ae72f6311df7"
      },
      "outputs": [
        {
          "name": "stdout",
          "output_type": "stream",
          "text": [
            "Epoch 1/20\n",
            "704/704 [==============================] - 7s 9ms/step - loss: 1.4305 - accuracy: 0.4886 - val_loss: 1.1110 - val_accuracy: 0.6068\n",
            "Epoch 2/20\n",
            "704/704 [==============================] - 6s 9ms/step - loss: 0.9591 - accuracy: 0.6645 - val_loss: 0.8922 - val_accuracy: 0.6816\n",
            "Epoch 3/20\n",
            "704/704 [==============================] - 6s 9ms/step - loss: 0.7789 - accuracy: 0.7294 - val_loss: 0.8052 - val_accuracy: 0.7212\n",
            "Epoch 4/20\n",
            "704/704 [==============================] - 6s 9ms/step - loss: 0.6458 - accuracy: 0.7766 - val_loss: 0.7844 - val_accuracy: 0.7294\n",
            "Epoch 5/20\n",
            "704/704 [==============================] - 7s 10ms/step - loss: 0.5425 - accuracy: 0.8128 - val_loss: 0.8096 - val_accuracy: 0.7316\n",
            "Epoch 6/20\n",
            "704/704 [==============================] - 6s 9ms/step - loss: 0.4432 - accuracy: 0.8450 - val_loss: 0.7945 - val_accuracy: 0.7440\n",
            "Epoch 7/20\n",
            "704/704 [==============================] - 6s 8ms/step - loss: 0.3626 - accuracy: 0.8709 - val_loss: 0.8629 - val_accuracy: 0.7298\n",
            "Epoch 8/20\n",
            "704/704 [==============================] - 6s 8ms/step - loss: 0.2873 - accuracy: 0.8992 - val_loss: 0.9213 - val_accuracy: 0.7288\n",
            "Epoch 9/20\n",
            "704/704 [==============================] - 6s 8ms/step - loss: 0.2323 - accuracy: 0.9177 - val_loss: 1.0500 - val_accuracy: 0.7258\n",
            "Epoch 10/20\n",
            "704/704 [==============================] - 6s 8ms/step - loss: 0.1891 - accuracy: 0.9343 - val_loss: 1.1213 - val_accuracy: 0.7314\n",
            "Epoch 11/20\n",
            "704/704 [==============================] - 6s 8ms/step - loss: 0.1551 - accuracy: 0.9455 - val_loss: 1.2428 - val_accuracy: 0.7256\n",
            "Epoch 12/20\n",
            "704/704 [==============================] - 6s 8ms/step - loss: 0.1324 - accuracy: 0.9522 - val_loss: 1.3461 - val_accuracy: 0.7310\n",
            "Epoch 13/20\n",
            "704/704 [==============================] - 6s 8ms/step - loss: 0.1145 - accuracy: 0.9598 - val_loss: 1.5458 - val_accuracy: 0.7178\n",
            "Epoch 14/20\n",
            "704/704 [==============================] - 6s 9ms/step - loss: 0.1043 - accuracy: 0.9630 - val_loss: 1.4988 - val_accuracy: 0.7218\n",
            "Epoch 15/20\n",
            "704/704 [==============================] - 6s 8ms/step - loss: 0.1071 - accuracy: 0.9628 - val_loss: 1.5857 - val_accuracy: 0.7236\n",
            "Epoch 16/20\n",
            "704/704 [==============================] - 6s 9ms/step - loss: 0.0843 - accuracy: 0.9707 - val_loss: 1.6925 - val_accuracy: 0.7268\n",
            "Epoch 17/20\n",
            "704/704 [==============================] - 7s 9ms/step - loss: 0.0918 - accuracy: 0.9678 - val_loss: 1.6887 - val_accuracy: 0.7296\n",
            "Epoch 18/20\n",
            "704/704 [==============================] - 6s 9ms/step - loss: 0.0836 - accuracy: 0.9716 - val_loss: 1.8095 - val_accuracy: 0.7196\n",
            "Epoch 19/20\n",
            "704/704 [==============================] - 6s 8ms/step - loss: 0.0904 - accuracy: 0.9696 - val_loss: 1.7282 - val_accuracy: 0.7206\n",
            "Epoch 20/20\n",
            "704/704 [==============================] - 6s 9ms/step - loss: 0.0744 - accuracy: 0.9744 - val_loss: 1.8282 - val_accuracy: 0.7272\n"
          ]
        }
      ],
      "source": [
        "history = model.fit(X_train, y_train, epochs=20, batch_size=64, validation_data= (X_val, y_val), verbose=1)"
      ]
    },
    {
      "cell_type": "code",
      "execution_count": 19,
      "metadata": {
        "colab": {
          "base_uri": "https://localhost:8080/"
        },
        "id": "GkneShsPILYe",
        "outputId": "20a6ca10-0f79-49d5-a834-dbbf4033912c"
      },
      "outputs": [
        {
          "name": "stdout",
          "output_type": "stream",
          "text": [
            "313/313 [==============================] - 2s 5ms/step - loss: 1.9449 - accuracy: 0.7181\n",
            "> 71.810\n"
          ]
        }
      ],
      "source": [
        "_, acc = model.evaluate(X_test, y_test, verbose=1)\n",
        "print('> %.3f' % (acc * 100.0))"
      ]
    },
    {
      "cell_type": "code",
      "execution_count": 20,
      "metadata": {
        "colab": {
          "base_uri": "https://localhost:8080/",
          "height": 299
        },
        "id": "fyi75TzIILYf",
        "outputId": "bbd6a6bb-1526-4297-8c67-fd1aaf9e117c"
      },
      "outputs": [
        {
          "data": {
            "text/plain": [
              "[<matplotlib.lines.Line2D at 0x7fb1c1c327d0>]"
            ]
          },
          "execution_count": 20,
          "metadata": {},
          "output_type": "execute_result"
        },
        {
          "data": {
            "image/png": "[encoded data removed]",
            "text/plain": [
              "<Figure size 432x288 with 2 Axes>"
            ]
          },
          "metadata": {
            "needs_background": "light"
          },
          "output_type": "display_data"
        }
      ],
      "source": [
        "pyplot.subplot(211)\n",
        "pyplot.title('Cross Entropy Loss')\n",
        "pyplot.plot(history.history['loss'], color='blue', label='train')\n",
        "pyplot.plot(history.history['val_loss'], color='orange', label='test')\n",
        "# plot accuracy\n",
        "pyplot.subplot(212)\n",
        "pyplot.title('Classification Accuracy')\n",
        "pyplot.plot(history.history['accuracy'], color='blue', label='train')\n",
        "pyplot.plot(history.history['val_accuracy'], color='orange', label='test')"
      ]
    },
    {
      "cell_type": "markdown",
      "metadata": {
        "id": "ArWzOYQqILYf"
      },
      "source": [
        "**Improvement 2**"
      ]
    },
    {
      "cell_type": "code",
      "execution_count": 21,
      "metadata": {
        "id": "sOf2zoWgILYf"
      },
      "outputs": [],
      "source": [
        "model = Sequential()\n",
        "model.add(Conv2D(32, (3, 3), activation='relu', kernel_initializer='he_uniform', padding='same', input_shape=(32, 32, 3)))\n",
        "model.add(Conv2D(32, (3, 3), activation='relu', kernel_initializer='he_uniform', padding='same'))\n",
        "model.add(MaxPooling2D((2, 2)))\n",
        "model.add(Conv2D(64, (3, 3), activation='relu', kernel_initializer='he_uniform', padding='same'))\n",
        "model.add(Conv2D(64, (3, 3), activation='relu', kernel_initializer='he_uniform', padding='same'))\n",
        "model.add(MaxPooling2D((2, 2)))\n",
        "model.add(Conv2D(128, (3, 3), activation='relu', kernel_initializer='he_uniform', padding='same'))\n",
        "model.add(Conv2D(128, (3, 3), activation='relu', kernel_initializer='he_uniform', padding='same'))\n",
        "model.add(MaxPooling2D((2, 2)))\n",
        "model.add(Flatten())\n",
        "model.add(Dense(128, activation='relu', kernel_initializer='he_uniform'))\n",
        "model.add(Dense(10, activation='softmax'))\n",
        "# compile model\n",
        "model.compile(optimizer='adam', loss='categorical_crossentropy', metrics=['accuracy'])"
      ]
    },
    {
      "cell_type": "code",
      "execution_count": 22,
      "metadata": {
        "colab": {
          "base_uri": "https://localhost:8080/"
        },
        "id": "ZVDwtfwEILYg",
        "outputId": "b2637f47-9f0f-4974-c2a0-990c2f5c5467"
      },
      "outputs": [
        {
          "name": "stdout",
          "output_type": "stream",
          "text": [
            "Epoch 1/20\n",
            "704/704 [==============================] - 8s 11ms/step - loss: 1.4610 - accuracy: 0.4702 - val_loss: 1.3352 - val_accuracy: 0.5368\n",
            "Epoch 2/20\n",
            "704/704 [==============================] - 7s 10ms/step - loss: 0.9665 - accuracy: 0.6584 - val_loss: 0.8348 - val_accuracy: 0.7072\n",
            "Epoch 3/20\n",
            "704/704 [==============================] - 7s 10ms/step - loss: 0.7562 - accuracy: 0.7365 - val_loss: 0.7937 - val_accuracy: 0.7180\n",
            "Epoch 4/20\n",
            "704/704 [==============================] - 7s 10ms/step - loss: 0.6151 - accuracy: 0.7862 - val_loss: 0.7396 - val_accuracy: 0.7438\n",
            "Epoch 5/20\n",
            "704/704 [==============================] - 7s 9ms/step - loss: 0.4971 - accuracy: 0.8241 - val_loss: 0.7463 - val_accuracy: 0.7528\n",
            "Epoch 6/20\n",
            "704/704 [==============================] - 7s 10ms/step - loss: 0.4051 - accuracy: 0.8575 - val_loss: 0.7620 - val_accuracy: 0.7536\n",
            "Epoch 7/20\n",
            "704/704 [==============================] - 7s 10ms/step - loss: 0.3162 - accuracy: 0.8878 - val_loss: 0.7974 - val_accuracy: 0.7628\n",
            "Epoch 8/20\n",
            "704/704 [==============================] - 7s 9ms/step - loss: 0.2443 - accuracy: 0.9129 - val_loss: 0.8559 - val_accuracy: 0.7600\n",
            "Epoch 9/20\n",
            "704/704 [==============================] - 7s 10ms/step - loss: 0.2067 - accuracy: 0.9269 - val_loss: 0.9354 - val_accuracy: 0.7548\n",
            "Epoch 10/20\n",
            "704/704 [==============================] - 7s 9ms/step - loss: 0.1782 - accuracy: 0.9376 - val_loss: 1.0426 - val_accuracy: 0.7536\n",
            "Epoch 11/20\n",
            "704/704 [==============================] - 7s 10ms/step - loss: 0.1628 - accuracy: 0.9423 - val_loss: 1.0491 - val_accuracy: 0.7548\n",
            "Epoch 12/20\n",
            "704/704 [==============================] - 7s 9ms/step - loss: 0.1450 - accuracy: 0.9481 - val_loss: 1.1794 - val_accuracy: 0.7548\n",
            "Epoch 13/20\n",
            "704/704 [==============================] - 7s 10ms/step - loss: 0.1367 - accuracy: 0.9532 - val_loss: 1.2891 - val_accuracy: 0.7498\n",
            "Epoch 14/20\n",
            "704/704 [==============================] - 7s 10ms/step - loss: 0.1304 - accuracy: 0.9558 - val_loss: 1.2955 - val_accuracy: 0.7484\n",
            "Epoch 15/20\n",
            "704/704 [==============================] - 7s 10ms/step - loss: 0.1212 - accuracy: 0.9588 - val_loss: 1.2698 - val_accuracy: 0.7578\n",
            "Epoch 16/20\n",
            "704/704 [==============================] - 7s 9ms/step - loss: 0.0985 - accuracy: 0.9661 - val_loss: 1.2471 - val_accuracy: 0.7606\n",
            "Epoch 17/20\n",
            "704/704 [==============================] - 7s 10ms/step - loss: 0.1019 - accuracy: 0.9650 - val_loss: 1.3297 - val_accuracy: 0.7470\n",
            "Epoch 18/20\n",
            "704/704 [==============================] - 7s 10ms/step - loss: 0.1072 - accuracy: 0.9642 - val_loss: 1.1758 - val_accuracy: 0.7600\n",
            "Epoch 19/20\n",
            "704/704 [==============================] - 7s 10ms/step - loss: 0.0940 - accuracy: 0.9678 - val_loss: 1.2549 - val_accuracy: 0.7596\n",
            "Epoch 20/20\n",
            "704/704 [==============================] - 7s 10ms/step - loss: 0.1049 - accuracy: 0.9643 - val_loss: 1.4137 - val_accuracy: 0.7596\n"
          ]
        }
      ],
      "source": [
        "history = model.fit(X_train, y_train, epochs=20, batch_size=64, validation_data= (X_val, y_val), verbose=1)"
      ]
    },
    {
      "cell_type": "code",
      "execution_count": 23,
      "metadata": {
        "colab": {
          "base_uri": "https://localhost:8080/"
        },
        "id": "ntuQFhy_ILYg",
        "outputId": "a5d3797e-3925-4747-9cac-63c451e36e64"
      },
      "outputs": [
        {
          "name": "stdout",
          "output_type": "stream",
          "text": [
            "313/313 [==============================] - 1s 5ms/step - loss: 1.4984 - accuracy: 0.7537\n",
            "> 75.370\n"
          ]
        }
      ],
      "source": [
        "_, acc = model.evaluate(X_test, y_test, verbose=1)\n",
        "print('> %.3f' % (acc * 100.0))"
      ]
    },
    {
      "cell_type": "code",
      "execution_count": 24,
      "metadata": {
        "colab": {
          "base_uri": "https://localhost:8080/",
          "height": 299
        },
        "id": "IhGhGWkMILYg",
        "outputId": "7052a4d3-0a30-44c7-9c85-6703429922d1"
      },
      "outputs": [
        {
          "data": {
            "text/plain": [
              "[<matplotlib.lines.Line2D at 0x7fb1c18c7a90>]"
            ]
          },
          "execution_count": 24,
          "metadata": {},
          "output_type": "execute_result"
        },
        {
          "data": {
            "image/png": "[encoded data removed]",
            "text/plain": [
              "<Figure size 432x288 with 2 Axes>"
            ]
          },
          "metadata": {
            "needs_background": "light"
          },
          "output_type": "display_data"
        }
      ],
      "source": [
        "pyplot.subplot(211)\n",
        "pyplot.title('Cross Entropy Loss')\n",
        "pyplot.plot(history.history['loss'], color='blue', label='train')\n",
        "pyplot.plot(history.history['val_loss'], color='orange', label='test')\n",
        "# plot accuracy\n",
        "pyplot.subplot(212)\n",
        "pyplot.title('Classification Accuracy')\n",
        "pyplot.plot(history.history['accuracy'], color='blue', label='train')\n",
        "pyplot.plot(history.history['val_accuracy'], color='orange', label='test')"
      ]
    },
    {
      "cell_type": "markdown",
      "metadata": {
        "id": "dSlbjcQgILYg"
      },
      "source": [
        "**Introducing Regularization**"
      ]
    },
    {
      "cell_type": "markdown",
      "metadata": {
        "id": "36BV0lLXILYh"
      },
      "source": [
        "**Dropout**"
      ]
    },
    {
      "cell_type": "code",
      "execution_count": 25,
      "metadata": {
        "id": "DqwAOI9kILYh"
      },
      "outputs": [],
      "source": [
        "from tensorflow.keras.layers import Dropout"
      ]
    },
    {
      "cell_type": "code",
      "execution_count": 26,
      "metadata": {
        "id": "jB00mNpNILYh"
      },
      "outputs": [],
      "source": [
        "model = Sequential()\n",
        "model.add(Conv2D(32, (3, 3), activation='relu', kernel_initializer='he_uniform', padding='same', input_shape=(32, 32, 3)))\n",
        "model.add(Conv2D(32, (3, 3), activation='relu', kernel_initializer='he_uniform', padding='same'))\n",
        "model.add(MaxPooling2D((2, 2)))\n",
        "model.add(Dropout(0.2))\n",
        "model.add(Conv2D(64, (3, 3), activation='relu', kernel_initializer='he_uniform', padding='same'))\n",
        "model.add(Conv2D(64, (3, 3), activation='relu', kernel_initializer='he_uniform', padding='same'))\n",
        "model.add(MaxPooling2D((2, 2)))\n",
        "model.add(Dropout(0.2))\n",
        "model.add(Conv2D(128, (3, 3), activation='relu', kernel_initializer='he_uniform', padding='same'))\n",
        "model.add(Conv2D(128, (3, 3), activation='relu', kernel_initializer='he_uniform', padding='same'))\n",
        "model.add(MaxPooling2D((2, 2)))\n",
        "model.add(Dropout(0.2))\n",
        "model.add(Flatten())\n",
        "model.add(Dense(128, activation='relu', kernel_initializer='he_uniform'))\n",
        "model.add(Dropout(0.2))\n",
        "model.add(Dense(10, activation='softmax'))\n",
        "# compile model\n",
        "model.compile(optimizer='adam', loss='categorical_crossentropy', metrics=['accuracy'])"
      ]
    },
    {
      "cell_type": "code",
      "execution_count": 27,
      "metadata": {
        "colab": {
          "base_uri": "https://localhost:8080/"
        },
        "id": "ABEktWhtILYh",
        "outputId": "de0cc837-e063-4265-947c-b0f3bc9bc82b"
      },
      "outputs": [
        {
          "name": "stdout",
          "output_type": "stream",
          "text": [
            "Epoch 1/100\n",
            "704/704 [==============================] - 8s 10ms/step - loss: 1.7428 - accuracy: 0.3566 - val_loss: 1.3388 - val_accuracy: 0.5248\n",
            "Epoch 2/100\n",
            "704/704 [==============================] - 7s 10ms/step - loss: 1.2488 - accuracy: 0.5530 - val_loss: 1.0203 - val_accuracy: 0.6358\n",
            "Epoch 3/100\n",
            "704/704 [==============================] - 7s 10ms/step - loss: 1.0285 - accuracy: 0.6384 - val_loss: 0.8840 - val_accuracy: 0.6784\n",
            "Epoch 4/100\n",
            "704/704 [==============================] - 7s 10ms/step - loss: 0.9000 - accuracy: 0.6834 - val_loss: 0.7903 - val_accuracy: 0.7146\n",
            "Epoch 5/100\n",
            "704/704 [==============================] - 7s 10ms/step - loss: 0.8054 - accuracy: 0.7159 - val_loss: 0.7546 - val_accuracy: 0.7352\n",
            "Epoch 6/100\n",
            "704/704 [==============================] - 7s 10ms/step - loss: 0.7373 - accuracy: 0.7435 - val_loss: 0.7414 - val_accuracy: 0.7418\n",
            "Epoch 7/100\n",
            "704/704 [==============================] - 8s 11ms/step - loss: 0.6800 - accuracy: 0.7619 - val_loss: 0.6444 - val_accuracy: 0.7776\n",
            "Epoch 8/100\n",
            "704/704 [==============================] - 7s 10ms/step - loss: 0.6298 - accuracy: 0.7806 - val_loss: 0.6257 - val_accuracy: 0.7812\n",
            "Epoch 9/100\n",
            "704/704 [==============================] - 7s 10ms/step - loss: 0.5924 - accuracy: 0.7920 - val_loss: 0.6194 - val_accuracy: 0.7812\n",
            "Epoch 10/100\n",
            "704/704 [==============================] - 7s 10ms/step - loss: 0.5591 - accuracy: 0.8039 - val_loss: 0.6133 - val_accuracy: 0.7900\n",
            "Epoch 11/100\n",
            "704/704 [==============================] - 7s 10ms/step - loss: 0.5349 - accuracy: 0.8126 - val_loss: 0.5874 - val_accuracy: 0.8068\n",
            "Epoch 12/100\n",
            "704/704 [==============================] - 7s 10ms/step - loss: 0.5064 - accuracy: 0.8216 - val_loss: 0.5948 - val_accuracy: 0.8010\n",
            "Epoch 13/100\n",
            "704/704 [==============================] - 7s 10ms/step - loss: 0.4864 - accuracy: 0.8276 - val_loss: 0.6160 - val_accuracy: 0.7940\n",
            "Epoch 14/100\n",
            "704/704 [==============================] - 7s 10ms/step - loss: 0.4770 - accuracy: 0.8306 - val_loss: 0.5840 - val_accuracy: 0.8038\n",
            "Epoch 15/100\n",
            "704/704 [==============================] - 7s 10ms/step - loss: 0.4527 - accuracy: 0.8385 - val_loss: 0.5753 - val_accuracy: 0.8134\n",
            "Epoch 16/100\n",
            "704/704 [==============================] - 7s 10ms/step - loss: 0.4368 - accuracy: 0.8458 - val_loss: 0.6128 - val_accuracy: 0.8056\n",
            "Epoch 17/100\n",
            "704/704 [==============================] - 7s 10ms/step - loss: 0.4218 - accuracy: 0.8505 - val_loss: 0.5917 - val_accuracy: 0.8108\n",
            "Epoch 18/100\n",
            "704/704 [==============================] - 7s 10ms/step - loss: 0.4107 - accuracy: 0.8540 - val_loss: 0.6058 - val_accuracy: 0.8096\n",
            "Epoch 19/100\n",
            "704/704 [==============================] - 7s 10ms/step - loss: 0.3919 - accuracy: 0.8617 - val_loss: 0.6140 - val_accuracy: 0.8058\n",
            "Epoch 20/100\n",
            "704/704 [==============================] - 7s 10ms/step - loss: 0.3819 - accuracy: 0.8646 - val_loss: 0.5947 - val_accuracy: 0.8132\n",
            "Epoch 21/100\n",
            "704/704 [==============================] - 7s 10ms/step - loss: 0.3751 - accuracy: 0.8678 - val_loss: 0.5811 - val_accuracy: 0.8134\n",
            "Epoch 22/100\n",
            "704/704 [==============================] - 7s 10ms/step - loss: 0.3625 - accuracy: 0.8699 - val_loss: 0.5933 - val_accuracy: 0.8108\n",
            "Epoch 23/100\n",
            "704/704 [==============================] - 7s 10ms/step - loss: 0.3556 - accuracy: 0.8738 - val_loss: 0.6384 - val_accuracy: 0.8070\n",
            "Epoch 24/100\n",
            "704/704 [==============================] - 7s 10ms/step - loss: 0.3434 - accuracy: 0.8764 - val_loss: 0.5796 - val_accuracy: 0.8178\n",
            "Epoch 25/100\n",
            "704/704 [==============================] - 7s 10ms/step - loss: 0.3378 - accuracy: 0.8811 - val_loss: 0.6147 - val_accuracy: 0.8156\n",
            "Epoch 26/100\n",
            "704/704 [==============================] - 7s 10ms/step - loss: 0.3273 - accuracy: 0.8859 - val_loss: 0.6191 - val_accuracy: 0.8134\n",
            "Epoch 27/100\n",
            "704/704 [==============================] - 7s 10ms/step - loss: 0.3317 - accuracy: 0.8855 - val_loss: 0.6204 - val_accuracy: 0.8176\n",
            "Epoch 28/100\n",
            "704/704 [==============================] - 7s 10ms/step - loss: 0.3213 - accuracy: 0.8863 - val_loss: 0.6211 - val_accuracy: 0.8176\n",
            "Epoch 29/100\n",
            "704/704 [==============================] - 7s 10ms/step - loss: 0.3053 - accuracy: 0.8936 - val_loss: 0.6237 - val_accuracy: 0.8200\n",
            "Epoch 30/100\n",
            "704/704 [==============================] - 7s 10ms/step - loss: 0.3135 - accuracy: 0.8911 - val_loss: 0.6338 - val_accuracy: 0.8114\n",
            "Epoch 31/100\n",
            "704/704 [==============================] - 7s 10ms/step - loss: 0.3071 - accuracy: 0.8917 - val_loss: 0.6033 - val_accuracy: 0.8232\n",
            "Epoch 32/100\n",
            "704/704 [==============================] - 7s 10ms/step - loss: 0.2973 - accuracy: 0.8949 - val_loss: 0.6358 - val_accuracy: 0.8168\n",
            "Epoch 33/100\n",
            "704/704 [==============================] - 7s 10ms/step - loss: 0.3003 - accuracy: 0.8953 - val_loss: 0.6850 - val_accuracy: 0.8128\n",
            "Epoch 34/100\n",
            "704/704 [==============================] - 7s 10ms/step - loss: 0.2863 - accuracy: 0.8984 - val_loss: 0.6244 - val_accuracy: 0.8176\n",
            "Epoch 35/100\n",
            "704/704 [==============================] - 7s 10ms/step - loss: 0.2867 - accuracy: 0.8991 - val_loss: 0.6476 - val_accuracy: 0.8150\n",
            "Epoch 36/100\n",
            "704/704 [==============================] - 7s 10ms/step - loss: 0.2865 - accuracy: 0.8996 - val_loss: 0.6764 - val_accuracy: 0.8198\n",
            "Epoch 37/100\n",
            "704/704 [==============================] - 7s 11ms/step - loss: 0.2794 - accuracy: 0.9012 - val_loss: 0.6392 - val_accuracy: 0.8202\n",
            "Epoch 38/100\n",
            "704/704 [==============================] - 7s 10ms/step - loss: 0.2778 - accuracy: 0.9030 - val_loss: 0.6594 - val_accuracy: 0.8170\n",
            "Epoch 39/100\n",
            "704/704 [==============================] - 7s 10ms/step - loss: 0.2768 - accuracy: 0.9016 - val_loss: 0.6258 - val_accuracy: 0.8220\n",
            "Epoch 40/100\n",
            "704/704 [==============================] - 7s 11ms/step - loss: 0.2631 - accuracy: 0.9076 - val_loss: 0.6452 - val_accuracy: 0.8160\n",
            "Epoch 41/100\n",
            "704/704 [==============================] - 7s 11ms/step - loss: 0.2709 - accuracy: 0.9054 - val_loss: 0.6364 - val_accuracy: 0.8188\n",
            "Epoch 42/100\n",
            "704/704 [==============================] - 7s 11ms/step - loss: 0.2643 - accuracy: 0.9076 - val_loss: 0.6980 - val_accuracy: 0.8124\n",
            "Epoch 43/100\n",
            "704/704 [==============================] - 7s 10ms/step - loss: 0.2645 - accuracy: 0.9080 - val_loss: 0.6537 - val_accuracy: 0.8154\n",
            "Epoch 44/100\n",
            "704/704 [==============================] - 7s 10ms/step - loss: 0.2615 - accuracy: 0.9080 - val_loss: 0.6770 - val_accuracy: 0.8134\n",
            "Epoch 45/100\n",
            "704/704 [==============================] - 7s 11ms/step - loss: 0.2632 - accuracy: 0.9087 - val_loss: 0.6289 - val_accuracy: 0.8184\n",
            "Epoch 46/100\n",
            "704/704 [==============================] - 7s 11ms/step - loss: 0.2554 - accuracy: 0.9120 - val_loss: 0.6522 - val_accuracy: 0.8144\n",
            "Epoch 47/100\n",
            "704/704 [==============================] - 8s 11ms/step - loss: 0.2519 - accuracy: 0.9122 - val_loss: 0.6635 - val_accuracy: 0.8162\n",
            "Epoch 48/100\n",
            "704/704 [==============================] - 7s 10ms/step - loss: 0.2450 - accuracy: 0.9150 - val_loss: 0.6806 - val_accuracy: 0.8182\n",
            "Epoch 49/100\n",
            "704/704 [==============================] - 7s 10ms/step - loss: 0.2495 - accuracy: 0.9137 - val_loss: 0.6716 - val_accuracy: 0.8168\n",
            "Epoch 50/100\n",
            "704/704 [==============================] - 7s 10ms/step - loss: 0.2433 - accuracy: 0.9147 - val_loss: 0.6739 - val_accuracy: 0.8204\n",
            "Epoch 51/100\n",
            "704/704 [==============================] - 7s 10ms/step - loss: 0.2435 - accuracy: 0.9154 - val_loss: 0.6706 - val_accuracy: 0.8196\n",
            "Epoch 52/100\n",
            "704/704 [==============================] - 8s 11ms/step - loss: 0.2455 - accuracy: 0.9164 - val_loss: 0.7151 - val_accuracy: 0.8218\n",
            "Epoch 53/100\n",
            "704/704 [==============================] - 7s 10ms/step - loss: 0.2470 - accuracy: 0.9164 - val_loss: 0.6861 - val_accuracy: 0.8174\n",
            "Epoch 54/100\n",
            "704/704 [==============================] - 7s 10ms/step - loss: 0.2471 - accuracy: 0.9149 - val_loss: 0.6923 - val_accuracy: 0.8184\n",
            "Epoch 55/100\n",
            "704/704 [==============================] - 8s 11ms/step - loss: 0.2400 - accuracy: 0.9174 - val_loss: 0.6986 - val_accuracy: 0.8134\n",
            "Epoch 56/100\n",
            "704/704 [==============================] - 7s 10ms/step - loss: 0.2321 - accuracy: 0.9198 - val_loss: 0.6508 - val_accuracy: 0.8272\n",
            "Epoch 57/100\n",
            "704/704 [==============================] - 7s 10ms/step - loss: 0.2401 - accuracy: 0.9177 - val_loss: 0.6550 - val_accuracy: 0.8284\n",
            "Epoch 58/100\n",
            "704/704 [==============================] - 7s 10ms/step - loss: 0.2364 - accuracy: 0.9176 - val_loss: 0.7241 - val_accuracy: 0.8170\n",
            "Epoch 59/100\n",
            "704/704 [==============================] - 8s 11ms/step - loss: 0.2437 - accuracy: 0.9179 - val_loss: 0.7233 - val_accuracy: 0.8124\n",
            "Epoch 60/100\n",
            "704/704 [==============================] - 8s 11ms/step - loss: 0.2286 - accuracy: 0.9219 - val_loss: 0.6999 - val_accuracy: 0.8186\n",
            "Epoch 61/100\n",
            "704/704 [==============================] - 8s 11ms/step - loss: 0.2273 - accuracy: 0.9211 - val_loss: 0.6891 - val_accuracy: 0.8176\n",
            "Epoch 62/100\n",
            "704/704 [==============================] - 7s 10ms/step - loss: 0.2261 - accuracy: 0.9201 - val_loss: 0.6782 - val_accuracy: 0.8232\n",
            "Epoch 63/100\n",
            "704/704 [==============================] - 8s 11ms/step - loss: 0.2325 - accuracy: 0.9207 - val_loss: 0.6690 - val_accuracy: 0.8200\n",
            "Epoch 64/100\n",
            "704/704 [==============================] - 7s 10ms/step - loss: 0.2289 - accuracy: 0.9223 - val_loss: 0.7092 - val_accuracy: 0.8174\n",
            "Epoch 65/100\n",
            "704/704 [==============================] - 7s 10ms/step - loss: 0.2183 - accuracy: 0.9258 - val_loss: 0.6988 - val_accuracy: 0.8210\n",
            "Epoch 66/100\n",
            "704/704 [==============================] - 8s 11ms/step - loss: 0.2286 - accuracy: 0.9217 - val_loss: 0.7302 - val_accuracy: 0.8174\n",
            "Epoch 67/100\n",
            "704/704 [==============================] - 7s 10ms/step - loss: 0.2197 - accuracy: 0.9256 - val_loss: 0.7293 - val_accuracy: 0.8250\n",
            "Epoch 68/100\n",
            "704/704 [==============================] - 7s 10ms/step - loss: 0.2300 - accuracy: 0.9225 - val_loss: 0.6899 - val_accuracy: 0.8252\n",
            "Epoch 69/100\n",
            "704/704 [==============================] - 7s 10ms/step - loss: 0.2353 - accuracy: 0.9201 - val_loss: 0.7169 - val_accuracy: 0.8134\n",
            "Epoch 70/100\n",
            "704/704 [==============================] - 7s 10ms/step - loss: 0.2107 - accuracy: 0.9277 - val_loss: 0.7475 - val_accuracy: 0.8202\n",
            "Epoch 71/100\n",
            "704/704 [==============================] - 7s 11ms/step - loss: 0.2212 - accuracy: 0.9234 - val_loss: 0.7268 - val_accuracy: 0.8204\n",
            "Epoch 72/100\n",
            "704/704 [==============================] - 7s 10ms/step - loss: 0.2229 - accuracy: 0.9250 - val_loss: 0.7225 - val_accuracy: 0.8250\n",
            "Epoch 73/100\n",
            "704/704 [==============================] - 7s 10ms/step - loss: 0.2216 - accuracy: 0.9237 - val_loss: 0.7411 - val_accuracy: 0.8134\n",
            "Epoch 74/100\n",
            "704/704 [==============================] - 7s 10ms/step - loss: 0.2217 - accuracy: 0.9240 - val_loss: 0.7391 - val_accuracy: 0.8166\n",
            "Epoch 75/100\n",
            "704/704 [==============================] - 7s 11ms/step - loss: 0.2153 - accuracy: 0.9281 - val_loss: 0.7491 - val_accuracy: 0.8146\n",
            "Epoch 76/100\n",
            "704/704 [==============================] - 7s 11ms/step - loss: 0.2191 - accuracy: 0.9253 - val_loss: 0.7432 - val_accuracy: 0.8130\n",
            "Epoch 77/100\n",
            "704/704 [==============================] - 7s 11ms/step - loss: 0.2238 - accuracy: 0.9224 - val_loss: 0.7035 - val_accuracy: 0.8226\n",
            "Epoch 78/100\n",
            "704/704 [==============================] - 7s 11ms/step - loss: 0.2232 - accuracy: 0.9235 - val_loss: 0.6996 - val_accuracy: 0.8228\n",
            "Epoch 79/100\n",
            "704/704 [==============================] - 8s 11ms/step - loss: 0.2093 - accuracy: 0.9308 - val_loss: 0.7288 - val_accuracy: 0.8212\n",
            "Epoch 80/100\n",
            "704/704 [==============================] - 8s 11ms/step - loss: 0.2109 - accuracy: 0.9291 - val_loss: 0.7916 - val_accuracy: 0.8084\n",
            "Epoch 81/100\n",
            "704/704 [==============================] - 7s 10ms/step - loss: 0.2146 - accuracy: 0.9276 - val_loss: 0.7176 - val_accuracy: 0.8286\n",
            "Epoch 82/100\n",
            "704/704 [==============================] - 7s 10ms/step - loss: 0.2124 - accuracy: 0.9283 - val_loss: 0.7404 - val_accuracy: 0.8192\n",
            "Epoch 83/100\n",
            "704/704 [==============================] - 7s 10ms/step - loss: 0.2118 - accuracy: 0.9292 - val_loss: 0.7595 - val_accuracy: 0.8174\n",
            "Epoch 84/100\n",
            "704/704 [==============================] - 7s 10ms/step - loss: 0.2202 - accuracy: 0.9254 - val_loss: 0.7212 - val_accuracy: 0.8194\n",
            "Epoch 85/100\n",
            "704/704 [==============================] - 7s 10ms/step - loss: 0.2145 - accuracy: 0.9282 - val_loss: 0.7552 - val_accuracy: 0.8286\n",
            "Epoch 86/100\n",
            "704/704 [==============================] - 7s 10ms/step - loss: 0.2171 - accuracy: 0.9272 - val_loss: 0.7524 - val_accuracy: 0.8238\n",
            "Epoch 87/100\n",
            "704/704 [==============================] - 7s 10ms/step - loss: 0.2181 - accuracy: 0.9284 - val_loss: 0.7233 - val_accuracy: 0.8240\n",
            "Epoch 88/100\n",
            "704/704 [==============================] - 7s 10ms/step - loss: 0.2090 - accuracy: 0.9295 - val_loss: 0.7045 - val_accuracy: 0.8250\n",
            "Epoch 89/100\n",
            "704/704 [==============================] - 7s 11ms/step - loss: 0.2048 - accuracy: 0.9308 - val_loss: 0.7505 - val_accuracy: 0.8210\n",
            "Epoch 90/100\n",
            "704/704 [==============================] - 7s 10ms/step - loss: 0.2208 - accuracy: 0.9266 - val_loss: 0.7352 - val_accuracy: 0.8218\n",
            "Epoch 91/100\n",
            "704/704 [==============================] - 7s 11ms/step - loss: 0.2002 - accuracy: 0.9324 - val_loss: 0.7520 - val_accuracy: 0.8294\n",
            "Epoch 92/100\n",
            "704/704 [==============================] - 7s 11ms/step - loss: 0.2128 - accuracy: 0.9278 - val_loss: 0.7375 - val_accuracy: 0.8262\n",
            "Epoch 93/100\n",
            "704/704 [==============================] - 7s 10ms/step - loss: 0.2079 - accuracy: 0.9303 - val_loss: 0.7530 - val_accuracy: 0.8222\n",
            "Epoch 94/100\n",
            "704/704 [==============================] - 7s 10ms/step - loss: 0.2093 - accuracy: 0.9314 - val_loss: 0.7545 - val_accuracy: 0.8202\n",
            "Epoch 95/100\n",
            "704/704 [==============================] - 7s 10ms/step - loss: 0.2214 - accuracy: 0.9262 - val_loss: 0.7192 - val_accuracy: 0.8248\n",
            "Epoch 96/100\n",
            "704/704 [==============================] - 7s 10ms/step - loss: 0.2065 - accuracy: 0.9297 - val_loss: 0.7200 - val_accuracy: 0.8262\n",
            "Epoch 97/100\n",
            "704/704 [==============================] - 7s 10ms/step - loss: 0.2153 - accuracy: 0.9296 - val_loss: 0.8050 - val_accuracy: 0.8152\n",
            "Epoch 98/100\n",
            "704/704 [==============================] - 7s 10ms/step - loss: 0.2138 - accuracy: 0.9287 - val_loss: 0.7416 - val_accuracy: 0.8248\n",
            "Epoch 99/100\n",
            "704/704 [==============================] - 7s 10ms/step - loss: 0.2016 - accuracy: 0.9332 - val_loss: 0.7527 - val_accuracy: 0.8194\n",
            "Epoch 100/100\n",
            "704/704 [==============================] - 8s 11ms/step - loss: 0.2087 - accuracy: 0.9297 - val_loss: 0.7816 - val_accuracy: 0.8110\n"
          ]
        }
      ],
      "source": [
        "history = model.fit(X_train, y_train, epochs=100, batch_size=64, validation_data= (X_val, y_val), verbose=1)"
      ]
    },
    {
      "cell_type": "code",
      "execution_count": 28,
      "metadata": {
        "colab": {
          "base_uri": "https://localhost:8080/"
        },
        "id": "lIdPICLaILYh",
        "outputId": "0fabf07c-ce3c-4304-937f-f30e4fc65027"
      },
      "outputs": [
        {
          "name": "stdout",
          "output_type": "stream",
          "text": [
            "313/313 [==============================] - 2s 5ms/step - loss: 0.8014 - accuracy: 0.8128\n",
            "> 81.280\n"
          ]
        }
      ],
      "source": [
        "_, acc = model.evaluate(X_test, y_test, verbose=1)\n",
        "print('> %.3f' % (acc * 100.0))"
      ]
    },
    {
      "cell_type": "code",
      "execution_count": 29,
      "metadata": {
        "colab": {
          "base_uri": "https://localhost:8080/",
          "height": 299
        },
        "id": "RA3kq5KDILYi",
        "outputId": "50ebabd8-d808-46f7-e36b-46561e022bfc"
      },
      "outputs": [
        {
          "data": {
            "text/plain": [
              "[<matplotlib.lines.Line2D at 0x7fb1ac2cf510>]"
            ]
          },
          "execution_count": 29,
          "metadata": {},
          "output_type": "execute_result"
        },
        {
          "data": {
            "image/png": "[encoded data removed]",
            "text/plain": [
              "<Figure size 432x288 with 2 Axes>"
            ]
          },
          "metadata": {
            "needs_background": "light"
          },
          "output_type": "display_data"
        }
      ],
      "source": [
        "pyplot.subplot(211)\n",
        "pyplot.title('Cross Entropy Loss')\n",
        "pyplot.plot(history.history['loss'], color='blue', label='train')\n",
        "pyplot.plot(history.history['val_loss'], color='orange', label='test')\n",
        "# plot accuracy\n",
        "pyplot.subplot(212)\n",
        "pyplot.title('Classification Accuracy')\n",
        "pyplot.plot(history.history['accuracy'], color='blue', label='train')\n",
        "pyplot.plot(history.history['val_accuracy'], color='orange', label='test')"
      ]
    },
    {
      "cell_type": "markdown",
      "metadata": {
        "id": "FPkOlBpHILYi"
      },
      "source": [
        "**L2 Regularization**"
      ]
    },
    {
      "cell_type": "code",
      "execution_count": 30,
      "metadata": {
        "id": "3hVXfJsvRBCG"
      },
      "outputs": [],
      "source": [
        "from keras.regularizers import l2"
      ]
    },
    {
      "cell_type": "code",
      "execution_count": 31,
      "metadata": {
        "id": "V_0G1mlcILYi"
      },
      "outputs": [],
      "source": [
        "model = Sequential()\n",
        "model.add(Conv2D(32, (3, 3), activation='relu', kernel_initializer='he_uniform', padding='same', kernel_regularizer=l2(0.001), input_shape=(32, 32, 3)))\n",
        "model.add(Conv2D(32, (3, 3), activation='relu', kernel_initializer='he_uniform', padding='same', kernel_regularizer=l2(0.001)))\n",
        "model.add(MaxPooling2D((2, 2)))\n",
        "model.add(Conv2D(64, (3, 3), activation='relu', kernel_initializer='he_uniform', padding='same', kernel_regularizer=l2(0.001)))\n",
        "model.add(Conv2D(64, (3, 3), activation='relu', kernel_initializer='he_uniform', padding='same', kernel_regularizer=l2(0.001)))\n",
        "model.add(MaxPooling2D((2, 2)))\n",
        "model.add(Conv2D(128, (3, 3), activation='relu', kernel_initializer='he_uniform', padding='same', kernel_regularizer=l2(0.001)))\n",
        "model.add(Conv2D(128, (3, 3), activation='relu', kernel_initializer='he_uniform', padding='same', kernel_regularizer=l2(0.001)))\n",
        "model.add(MaxPooling2D((2, 2)))\n",
        "model.add(Flatten())\n",
        "model.add(Dense(128, activation='relu', kernel_initializer='he_uniform', kernel_regularizer=l2(0.001)))\n",
        "model.add(Dense(10, activation='softmax'))\n",
        "# compile model\n",
        "model.compile(optimizer='adam', loss='categorical_crossentropy', metrics=['accuracy'])"
      ]
    },
    {
      "cell_type": "code",
      "execution_count": 32,
      "metadata": {
        "colab": {
          "base_uri": "https://localhost:8080/"
        },
        "id": "UcjmX_eGILYj",
        "outputId": "b2430aa0-835b-4888-ccbb-16ed83e32ca5"
      },
      "outputs": [
        {
          "name": "stdout",
          "output_type": "stream",
          "text": [
            "Epoch 1/20\n",
            "704/704 [==============================] - 8s 11ms/step - loss: 2.0016 - accuracy: 0.4429 - val_loss: 1.5250 - val_accuracy: 0.5706\n",
            "Epoch 2/20\n",
            "704/704 [==============================] - 7s 10ms/step - loss: 1.4066 - accuracy: 0.6146 - val_loss: 1.3068 - val_accuracy: 0.6426\n",
            "Epoch 3/20\n",
            "704/704 [==============================] - 7s 10ms/step - loss: 1.1905 - accuracy: 0.6898 - val_loss: 1.2022 - val_accuracy: 0.6802\n",
            "Epoch 4/20\n",
            "704/704 [==============================] - 7s 10ms/step - loss: 1.0858 - accuracy: 0.7251 - val_loss: 1.0525 - val_accuracy: 0.7354\n",
            "Epoch 5/20\n",
            "704/704 [==============================] - 7s 10ms/step - loss: 1.0128 - accuracy: 0.7529 - val_loss: 1.0335 - val_accuracy: 0.7500\n",
            "Epoch 6/20\n",
            "704/704 [==============================] - 7s 10ms/step - loss: 0.9585 - accuracy: 0.7743 - val_loss: 1.0643 - val_accuracy: 0.7460\n",
            "Epoch 7/20\n",
            "704/704 [==============================] - 7s 10ms/step - loss: 0.9128 - accuracy: 0.7928 - val_loss: 0.9982 - val_accuracy: 0.7682\n",
            "Epoch 8/20\n",
            "704/704 [==============================] - 7s 10ms/step - loss: 0.8837 - accuracy: 0.8044 - val_loss: 1.0409 - val_accuracy: 0.7512\n",
            "Epoch 9/20\n",
            "704/704 [==============================] - 7s 10ms/step - loss: 0.8589 - accuracy: 0.8134 - val_loss: 0.9719 - val_accuracy: 0.7786\n",
            "Epoch 10/20\n",
            "704/704 [==============================] - 7s 10ms/step - loss: 0.8398 - accuracy: 0.8217 - val_loss: 0.9729 - val_accuracy: 0.7814\n",
            "Epoch 11/20\n",
            "704/704 [==============================] - 7s 10ms/step - loss: 0.8181 - accuracy: 0.8321 - val_loss: 1.0255 - val_accuracy: 0.7724\n",
            "Epoch 12/20\n",
            "704/704 [==============================] - 7s 10ms/step - loss: 0.7945 - accuracy: 0.8402 - val_loss: 1.0450 - val_accuracy: 0.7662\n",
            "Epoch 13/20\n",
            "704/704 [==============================] - 7s 10ms/step - loss: 0.7881 - accuracy: 0.8436 - val_loss: 1.0060 - val_accuracy: 0.7816\n",
            "Epoch 14/20\n",
            "704/704 [==============================] - 7s 10ms/step - loss: 0.7655 - accuracy: 0.8561 - val_loss: 0.9921 - val_accuracy: 0.7928\n",
            "Epoch 15/20\n",
            "704/704 [==============================] - 7s 10ms/step - loss: 0.7552 - accuracy: 0.8579 - val_loss: 0.9739 - val_accuracy: 0.7954\n",
            "Epoch 16/20\n",
            "704/704 [==============================] - 7s 10ms/step - loss: 0.7448 - accuracy: 0.8627 - val_loss: 1.0134 - val_accuracy: 0.7866\n",
            "Epoch 17/20\n",
            "704/704 [==============================] - 7s 10ms/step - loss: 0.7437 - accuracy: 0.8641 - val_loss: 1.0250 - val_accuracy: 0.7810\n",
            "Epoch 18/20\n",
            "704/704 [==============================] - 7s 10ms/step - loss: 0.7248 - accuracy: 0.8718 - val_loss: 1.0271 - val_accuracy: 0.7844\n",
            "Epoch 19/20\n",
            "704/704 [==============================] - 7s 10ms/step - loss: 0.7158 - accuracy: 0.8754 - val_loss: 1.0194 - val_accuracy: 0.7890\n",
            "Epoch 20/20\n",
            "704/704 [==============================] - 7s 10ms/step - loss: 0.7140 - accuracy: 0.8762 - val_loss: 1.0752 - val_accuracy: 0.7644\n"
          ]
        }
      ],
      "source": [
        "history = model.fit(X_train, y_train, epochs=20, batch_size=64, validation_data= (X_val, y_val), verbose=1)"
      ]
    },
    {
      "cell_type": "code",
      "execution_count": 33,
      "metadata": {
        "colab": {
          "base_uri": "https://localhost:8080/"
        },
        "id": "rQg2rYmHILYj",
        "outputId": "127208d6-882a-4117-cb03-3433751a26ec"
      },
      "outputs": [
        {
          "name": "stdout",
          "output_type": "stream",
          "text": [
            "313/313 [==============================] - 1s 4ms/step - loss: 1.0842 - accuracy: 0.7639\n",
            "> 76.390\n"
          ]
        }
      ],
      "source": [
        "_, acc = model.evaluate(X_test, y_test, verbose=1)\n",
        "print('> %.3f' % (acc * 100.0))"
      ]
    },
    {
      "cell_type": "code",
      "execution_count": 34,
      "metadata": {
        "colab": {
          "base_uri": "https://localhost:8080/",
          "height": 299
        },
        "id": "VOZyfMzDILYj",
        "outputId": "af31eed7-9fb3-483d-9f6c-318f3b864c8a"
      },
      "outputs": [
        {
          "data": {
            "text/plain": [
              "[<matplotlib.lines.Line2D at 0x7fb1799ae910>]"
            ]
          },
          "execution_count": 34,
          "metadata": {},
          "output_type": "execute_result"
        },
        {
          "data": {
            "image/png": "[encoded data removed]",
            "text/plain": [
              "<Figure size 432x288 with 2 Axes>"
            ]
          },
          "metadata": {
            "needs_background": "light"
          },
          "output_type": "display_data"
        }
      ],
      "source": [
        "pyplot.subplot(211)\n",
        "pyplot.title('Cross Entropy Loss')\n",
        "pyplot.plot(history.history['loss'], color='blue', label='train')\n",
        "pyplot.plot(history.history['val_loss'], color='orange', label='test')\n",
        "# plot accuracy\n",
        "pyplot.subplot(212)\n",
        "pyplot.title('Classification Accuracy')\n",
        "pyplot.plot(history.history['accuracy'], color='blue', label='train')\n",
        "pyplot.plot(history.history['val_accuracy'], color='orange', label='test')"
      ]
    },
    {
      "cell_type": "markdown",
      "metadata": {
        "id": "lMIx8FWEILYj"
      },
      "source": [
        "**Data Augmentation**"
      ]
    },
    {
      "cell_type": "code",
      "execution_count": 35,
      "metadata": {
        "id": "UuzktQ5d0agY"
      },
      "outputs": [],
      "source": [
        "model = Sequential()\n",
        "model.add(Conv2D(32, (3, 3), activation='relu', kernel_initializer='he_uniform', padding='same', input_shape=(32, 32, 3)))\n",
        "model.add(Conv2D(32, (3, 3), activation='relu', kernel_initializer='he_uniform', padding='same'))\n",
        "model.add(MaxPooling2D((2, 2)))\n",
        "model.add(Conv2D(64, (3, 3), activation='relu', kernel_initializer='he_uniform', padding='same'))\n",
        "model.add(Conv2D(64, (3, 3), activation='relu', kernel_initializer='he_uniform', padding='same'))\n",
        "model.add(MaxPooling2D((2, 2)))\n",
        "model.add(Conv2D(128, (3, 3), activation='relu', kernel_initializer='he_uniform', padding='same'))\n",
        "model.add(Conv2D(128, (3, 3), activation='relu', kernel_initializer='he_uniform', padding='same'))\n",
        "model.add(MaxPooling2D((2, 2)))\n",
        "model.add(Flatten())\n",
        "model.add(Dense(128, activation='relu', kernel_initializer='he_uniform'))\n",
        "model.add(Dense(10, activation='softmax'))\n",
        "# compile model\n",
        "model.compile(optimizer='adam', loss='categorical_crossentropy', metrics=['accuracy'])"
      ]
    },
    {
      "cell_type": "code",
      "execution_count": 36,
      "metadata": {
        "id": "T71Iyp8zILYk"
      },
      "outputs": [],
      "source": [
        "from keras.preprocessing.image import ImageDataGenerator"
      ]
    },
    {
      "cell_type": "code",
      "execution_count": 37,
      "metadata": {
        "id": "ME9g_WIuILYk"
      },
      "outputs": [],
      "source": [
        "datagen = ImageDataGenerator(width_shift_range=0.1, height_shift_range=0.1, horizontal_flip=True)\n",
        "# prepare iterator\n",
        "it_train = datagen.flow(X_train, y_train, batch_size=64)"
      ]
    },
    {
      "cell_type": "code",
      "execution_count": 38,
      "metadata": {
        "colab": {
          "base_uri": "https://localhost:8080/"
        },
        "id": "i0DSv_DHILYk",
        "outputId": "fc879b20-c5ec-4a05-ad8e-4ffa45c43f42"
      },
      "outputs": [
        {
          "name": "stdout",
          "output_type": "stream",
          "text": [
            "Epoch 1/20\n"
          ]
        },
        {
          "name": "stderr",
          "output_type": "stream",
          "text": [
            "/usr/local/lib/python3.7/dist-packages/ipykernel_launcher.py:3: UserWarning: `Model.fit_generator` is deprecated and will be removed in a future version. Please use `Model.fit`, which supports generators.\n",
            "  This is separate from the ipykernel package so we can avoid doing imports until\n"
          ]
        },
        {
          "name": "stdout",
          "output_type": "stream",
          "text": [
            "703/703 [==============================] - 25s 35ms/step - loss: 1.5589 - accuracy: 0.4333 - val_loss: 1.2232 - val_accuracy: 0.5618\n",
            "Epoch 2/20\n",
            "703/703 [==============================] - 25s 35ms/step - loss: 1.1147 - accuracy: 0.6031 - val_loss: 0.9365 - val_accuracy: 0.6780\n",
            "Epoch 3/20\n",
            "703/703 [==============================] - 24s 35ms/step - loss: 0.9259 - accuracy: 0.6759 - val_loss: 0.8622 - val_accuracy: 0.6992\n",
            "Epoch 4/20\n",
            "703/703 [==============================] - 25s 35ms/step - loss: 0.8172 - accuracy: 0.7158 - val_loss: 0.7466 - val_accuracy: 0.7406\n",
            "Epoch 5/20\n",
            "703/703 [==============================] - 25s 35ms/step - loss: 0.7400 - accuracy: 0.7416 - val_loss: 0.6809 - val_accuracy: 0.7642\n",
            "Epoch 6/20\n",
            "703/703 [==============================] - 25s 35ms/step - loss: 0.6898 - accuracy: 0.7605 - val_loss: 0.6691 - val_accuracy: 0.7718\n",
            "Epoch 7/20\n",
            "703/703 [==============================] - 25s 35ms/step - loss: 0.6382 - accuracy: 0.7773 - val_loss: 0.6622 - val_accuracy: 0.7756\n",
            "Epoch 8/20\n",
            "703/703 [==============================] - 25s 35ms/step - loss: 0.6104 - accuracy: 0.7888 - val_loss: 0.6004 - val_accuracy: 0.7954\n",
            "Epoch 9/20\n",
            "703/703 [==============================] - 25s 35ms/step - loss: 0.5827 - accuracy: 0.7972 - val_loss: 0.6149 - val_accuracy: 0.7950\n",
            "Epoch 10/20\n",
            "703/703 [==============================] - 25s 35ms/step - loss: 0.5537 - accuracy: 0.8071 - val_loss: 0.6827 - val_accuracy: 0.7684\n",
            "Epoch 11/20\n",
            "703/703 [==============================] - 25s 36ms/step - loss: 0.5344 - accuracy: 0.8130 - val_loss: 0.5856 - val_accuracy: 0.8058\n",
            "Epoch 12/20\n",
            "703/703 [==============================] - 24s 35ms/step - loss: 0.5121 - accuracy: 0.8209 - val_loss: 0.5653 - val_accuracy: 0.8108\n",
            "Epoch 13/20\n",
            "703/703 [==============================] - 25s 35ms/step - loss: 0.4994 - accuracy: 0.8251 - val_loss: 0.6526 - val_accuracy: 0.7848\n",
            "Epoch 14/20\n",
            "703/703 [==============================] - 25s 35ms/step - loss: 0.4818 - accuracy: 0.8330 - val_loss: 0.6367 - val_accuracy: 0.7908\n",
            "Epoch 15/20\n",
            "703/703 [==============================] - 25s 35ms/step - loss: 0.4631 - accuracy: 0.8389 - val_loss: 0.6015 - val_accuracy: 0.8018\n",
            "Epoch 16/20\n",
            "703/703 [==============================] - 25s 35ms/step - loss: 0.4534 - accuracy: 0.8442 - val_loss: 0.5738 - val_accuracy: 0.8086\n",
            "Epoch 17/20\n",
            "703/703 [==============================] - 25s 36ms/step - loss: 0.4428 - accuracy: 0.8451 - val_loss: 0.5739 - val_accuracy: 0.8116\n",
            "Epoch 18/20\n",
            "703/703 [==============================] - 25s 35ms/step - loss: 0.4298 - accuracy: 0.8503 - val_loss: 0.5672 - val_accuracy: 0.8148\n",
            "Epoch 19/20\n",
            "703/703 [==============================] - 24s 35ms/step - loss: 0.4208 - accuracy: 0.8540 - val_loss: 0.5675 - val_accuracy: 0.8154\n",
            "Epoch 20/20\n",
            "703/703 [==============================] - 25s 36ms/step - loss: 0.4092 - accuracy: 0.8569 - val_loss: 0.5212 - val_accuracy: 0.8284\n"
          ]
        }
      ],
      "source": [
        "# fit model\n",
        "steps = int(X_train.shape[0] / 64)\n",
        "history = model.fit_generator(it_train, steps_per_epoch=steps, epochs=20, validation_data= (X_val, y_val), verbose=1)"
      ]
    },
    {
      "cell_type": "code",
      "execution_count": 39,
      "metadata": {
        "colab": {
          "base_uri": "https://localhost:8080/"
        },
        "id": "YxGD2Q0dILYk",
        "outputId": "3ca2be63-ee80-4dcb-ccde-f1017b5aa486"
      },
      "outputs": [
        {
          "name": "stdout",
          "output_type": "stream",
          "text": [
            "313/313 [==============================] - 2s 5ms/step - loss: 0.5447 - accuracy: 0.8230\n",
            "> 82.300\n"
          ]
        }
      ],
      "source": [
        "_, acc = model.evaluate(X_test, y_test, verbose=1)\n",
        "print('> %.3f' % (acc * 100.0))"
      ]
    },
    {
      "cell_type": "code",
      "execution_count": 40,
      "metadata": {
        "colab": {
          "base_uri": "https://localhost:8080/",
          "height": 299
        },
        "id": "3jsyqEf6ILYk",
        "outputId": "9f623399-a029-4423-cb98-3db79167261c"
      },
      "outputs": [
        {
          "data": {
            "text/plain": [
              "[<matplotlib.lines.Line2D at 0x7fb179681090>]"
            ]
          },
          "execution_count": 40,
          "metadata": {},
          "output_type": "execute_result"
        },
        {
          "data": {
            "image/png": "[encoded data removed]",
            "text/plain": [
              "<Figure size 432x288 with 2 Axes>"
            ]
          },
          "metadata": {
            "needs_background": "light"
          },
          "output_type": "display_data"
        }
      ],
      "source": [
        "pyplot.subplot(211)\n",
        "pyplot.title('Cross Entropy Loss')\n",
        "pyplot.plot(history.history['loss'], color='blue', label='train')\n",
        "pyplot.plot(history.history['val_loss'], color='orange', label='test')\n",
        "# plot accuracy\n",
        "pyplot.subplot(212)\n",
        "pyplot.title('Classification Accuracy')\n",
        "pyplot.plot(history.history['accuracy'], color='blue', label='train')\n",
        "pyplot.plot(history.history['val_accuracy'], color='orange', label='test')"
      ]
    },
    {
      "cell_type": "markdown",
      "metadata": {
        "id": "RdwNozfWILYl"
      },
      "source": [
        "**Increase Dropput, Combine Batch Normalization with data augmentation**"
      ]
    },
    {
      "cell_type": "code",
      "execution_count": 41,
      "metadata": {
        "id": "gIaSfNpAILYl"
      },
      "outputs": [],
      "source": [
        "from keras.layers import BatchNormalization"
      ]
    },
    {
      "cell_type": "code",
      "execution_count": 42,
      "metadata": {
        "id": "-TqoPqvJILYl"
      },
      "outputs": [],
      "source": [
        "model = Sequential()\n",
        "model.add(Conv2D(32, (3, 3), activation='relu', kernel_initializer='he_uniform', padding='same', input_shape=(32, 32, 3)))\n",
        "model.add(BatchNormalization())\n",
        "model.add(Conv2D(32, (3, 3), activation='relu', kernel_initializer='he_uniform', padding='same'))\n",
        "model.add(BatchNormalization())\n",
        "model.add(MaxPooling2D((2, 2)))\n",
        "model.add(Dropout(0.2))\n",
        "model.add(Conv2D(64, (3, 3), activation='relu', kernel_initializer='he_uniform', padding='same'))\n",
        "model.add(BatchNormalization())\n",
        "model.add(Conv2D(64, (3, 3), activation='relu', kernel_initializer='he_uniform', padding='same'))\n",
        "model.add(BatchNormalization())\n",
        "model.add(MaxPooling2D((2, 2)))\n",
        "model.add(Dropout(0.3))\n",
        "model.add(Conv2D(128, (3, 3), activation='relu', kernel_initializer='he_uniform', padding='same'))\n",
        "model.add(BatchNormalization())\n",
        "model.add(Conv2D(128, (3, 3), activation='relu', kernel_initializer='he_uniform', padding='same'))\n",
        "model.add(BatchNormalization())\n",
        "model.add(MaxPooling2D((2, 2)))\n",
        "model.add(Dropout(0.4))\n",
        "model.add(Flatten())\n",
        "model.add(Dense(128, activation='relu', kernel_initializer='he_uniform'))\n",
        "model.add(BatchNormalization())\n",
        "model.add(Dropout(0.5))\n",
        "model.add(Dense(10, activation='softmax'))\n",
        "# compile model\n",
        "model.compile(optimizer='adam', loss='categorical_crossentropy', metrics=['accuracy'])"
      ]
    },
    {
      "cell_type": "code",
      "execution_count": 43,
      "metadata": {
        "colab": {
          "base_uri": "https://localhost:8080/"
        },
        "id": "vXRh0E1HFTF7",
        "outputId": "360cb7e6-c610-4d23-b024-c048ad1e3696"
      },
      "outputs": [
        {
          "name": "stdout",
          "output_type": "stream",
          "text": [
            "Model: \"sequential_6\"\n",
            "_________________________________________________________________\n",
            " Layer (type)                Output Shape              Param #   \n",
            "=================================================================\n",
            " conv2d_30 (Conv2D)          (None, 32, 32, 32)        896       \n",
            "                                                                 \n",
            " batch_normalization (BatchN  (None, 32, 32, 32)       128       \n",
            " ormalization)                                                   \n",
            "                                                                 \n",
            " conv2d_31 (Conv2D)          (None, 32, 32, 32)        9248      \n",
            "                                                                 \n",
            " batch_normalization_1 (Batc  (None, 32, 32, 32)       128       \n",
            " hNormalization)                                                 \n",
            "                                                                 \n",
            " max_pooling2d_15 (MaxPoolin  (None, 16, 16, 32)       0         \n",
            " g2D)                                                            \n",
            "                                                                 \n",
            " dropout_4 (Dropout)         (None, 16, 16, 32)        0         \n",
            "                                                                 \n",
            " conv2d_32 (Conv2D)          (None, 16, 16, 64)        18496     \n",
            "                                                                 \n",
            " batch_normalization_2 (Batc  (None, 16, 16, 64)       256       \n",
            " hNormalization)                                                 \n",
            "                                                                 \n",
            " conv2d_33 (Conv2D)          (None, 16, 16, 64)        36928     \n",
            "                                                                 \n",
            " batch_normalization_3 (Batc  (None, 16, 16, 64)       256       \n",
            " hNormalization)                                                 \n",
            "                                                                 \n",
            " max_pooling2d_16 (MaxPoolin  (None, 8, 8, 64)         0         \n",
            " g2D)                                                            \n",
            "                                                                 \n",
            " dropout_5 (Dropout)         (None, 8, 8, 64)          0         \n",
            "                                                                 \n",
            " conv2d_34 (Conv2D)          (None, 8, 8, 128)         73856     \n",
            "                                                                 \n",
            " batch_normalization_4 (Batc  (None, 8, 8, 128)        512       \n",
            " hNormalization)                                                 \n",
            "                                                                 \n",
            " conv2d_35 (Conv2D)          (None, 8, 8, 128)         147584    \n",
            "                                                                 \n",
            " batch_normalization_5 (Batc  (None, 8, 8, 128)        512       \n",
            " hNormalization)                                                 \n",
            "                                                                 \n",
            " max_pooling2d_17 (MaxPoolin  (None, 4, 4, 128)        0         \n",
            " g2D)                                                            \n",
            "                                                                 \n",
            " dropout_6 (Dropout)         (None, 4, 4, 128)         0         \n",
            "                                                                 \n",
            " flatten_6 (Flatten)         (None, 2048)              0         \n",
            "                                                                 \n",
            " dense_12 (Dense)            (None, 128)               262272    \n",
            "                                                                 \n",
            " batch_normalization_6 (Batc  (None, 128)              512       \n",
            " hNormalization)                                                 \n",
            "                                                                 \n",
            " dropout_7 (Dropout)         (None, 128)               0         \n",
            "                                                                 \n",
            " dense_13 (Dense)            (None, 10)                1290      \n",
            "                                                                 \n",
            "=================================================================\n",
            "Total params: 552,874\n",
            "Trainable params: 551,722\n",
            "Non-trainable params: 1,152\n",
            "_________________________________________________________________\n"
          ]
        }
      ],
      "source": [
        "model.summary()"
      ]
    },
    {
      "cell_type": "code",
      "execution_count": 44,
      "metadata": {
        "colab": {
          "base_uri": "https://localhost:8080/"
        },
        "id": "BoNbG2TRILYl",
        "outputId": "39e80c62-bd92-4251-ae1f-3e98dfc7793c"
      },
      "outputs": [
        {
          "name": "stderr",
          "output_type": "stream",
          "text": [
            "/usr/local/lib/python3.7/dist-packages/ipykernel_launcher.py:3: UserWarning: `Model.fit_generator` is deprecated and will be removed in a future version. Please use `Model.fit`, which supports generators.\n",
            "  This is separate from the ipykernel package so we can avoid doing imports until\n"
          ]
        },
        {
          "name": "stdout",
          "output_type": "stream",
          "text": [
            "Epoch 1/100\n",
            "703/703 [==============================] - 27s 37ms/step - loss: 1.7865 - accuracy: 0.3826 - val_loss: 1.4664 - val_accuracy: 0.4792\n",
            "Epoch 2/100\n",
            "703/703 [==============================] - 26s 37ms/step - loss: 1.3088 - accuracy: 0.5301 - val_loss: 1.2690 - val_accuracy: 0.5724\n",
            "Epoch 3/100\n",
            "703/703 [==============================] - 26s 37ms/step - loss: 1.1188 - accuracy: 0.6048 - val_loss: 0.9686 - val_accuracy: 0.6554\n",
            "Epoch 4/100\n",
            "703/703 [==============================] - 26s 37ms/step - loss: 0.9932 - accuracy: 0.6508 - val_loss: 0.9465 - val_accuracy: 0.6788\n",
            "Epoch 5/100\n",
            "703/703 [==============================] - 26s 37ms/step - loss: 0.9187 - accuracy: 0.6804 - val_loss: 0.7638 - val_accuracy: 0.7328\n",
            "Epoch 6/100\n",
            "703/703 [==============================] - 26s 37ms/step - loss: 0.8563 - accuracy: 0.7031 - val_loss: 0.7865 - val_accuracy: 0.7262\n",
            "Epoch 7/100\n",
            "703/703 [==============================] - 26s 37ms/step - loss: 0.8014 - accuracy: 0.7232 - val_loss: 0.7272 - val_accuracy: 0.7462\n",
            "Epoch 8/100\n",
            "703/703 [==============================] - 26s 37ms/step - loss: 0.7582 - accuracy: 0.7372 - val_loss: 0.6808 - val_accuracy: 0.7688\n",
            "Epoch 9/100\n",
            "703/703 [==============================] - 26s 38ms/step - loss: 0.7272 - accuracy: 0.7500 - val_loss: 0.6301 - val_accuracy: 0.7848\n",
            "Epoch 10/100\n",
            "703/703 [==============================] - 26s 37ms/step - loss: 0.6990 - accuracy: 0.7603 - val_loss: 0.6098 - val_accuracy: 0.7874\n",
            "Epoch 11/100\n",
            "703/703 [==============================] - 26s 37ms/step - loss: 0.6735 - accuracy: 0.7698 - val_loss: 0.6130 - val_accuracy: 0.7942\n",
            "Epoch 12/100\n",
            "703/703 [==============================] - 26s 37ms/step - loss: 0.6493 - accuracy: 0.7780 - val_loss: 0.5605 - val_accuracy: 0.8064\n",
            "Epoch 13/100\n",
            "703/703 [==============================] - 26s 38ms/step - loss: 0.6293 - accuracy: 0.7845 - val_loss: 0.6924 - val_accuracy: 0.7652\n",
            "Epoch 14/100\n",
            "703/703 [==============================] - 26s 36ms/step - loss: 0.6095 - accuracy: 0.7941 - val_loss: 0.5673 - val_accuracy: 0.8096\n",
            "Epoch 15/100\n",
            "703/703 [==============================] - 26s 37ms/step - loss: 0.5953 - accuracy: 0.7960 - val_loss: 0.5006 - val_accuracy: 0.8328\n",
            "Epoch 16/100\n",
            "703/703 [==============================] - 26s 36ms/step - loss: 0.5843 - accuracy: 0.8009 - val_loss: 0.5073 - val_accuracy: 0.8228\n",
            "Epoch 17/100\n",
            "703/703 [==============================] - 26s 36ms/step - loss: 0.5689 - accuracy: 0.8062 - val_loss: 0.4752 - val_accuracy: 0.8418\n",
            "Epoch 18/100\n",
            "703/703 [==============================] - 26s 37ms/step - loss: 0.5570 - accuracy: 0.8114 - val_loss: 0.4599 - val_accuracy: 0.8414\n",
            "Epoch 19/100\n",
            "703/703 [==============================] - 26s 37ms/step - loss: 0.5447 - accuracy: 0.8154 - val_loss: 0.5168 - val_accuracy: 0.8268\n",
            "Epoch 20/100\n",
            "703/703 [==============================] - 26s 36ms/step - loss: 0.5343 - accuracy: 0.8187 - val_loss: 0.4646 - val_accuracy: 0.8388\n",
            "Epoch 21/100\n",
            "703/703 [==============================] - 27s 38ms/step - loss: 0.5263 - accuracy: 0.8202 - val_loss: 0.4439 - val_accuracy: 0.8468\n",
            "Epoch 22/100\n",
            "703/703 [==============================] - 27s 38ms/step - loss: 0.5125 - accuracy: 0.8255 - val_loss: 0.4871 - val_accuracy: 0.8342\n",
            "Epoch 23/100\n",
            "703/703 [==============================] - 26s 36ms/step - loss: 0.5111 - accuracy: 0.8261 - val_loss: 0.4567 - val_accuracy: 0.8448\n",
            "Epoch 24/100\n",
            "703/703 [==============================] - 25s 36ms/step - loss: 0.5026 - accuracy: 0.8293 - val_loss: 0.4579 - val_accuracy: 0.8404\n",
            "Epoch 25/100\n",
            "703/703 [==============================] - 26s 36ms/step - loss: 0.4938 - accuracy: 0.8320 - val_loss: 0.4297 - val_accuracy: 0.8492\n",
            "Epoch 26/100\n",
            "703/703 [==============================] - 26s 37ms/step - loss: 0.4886 - accuracy: 0.8336 - val_loss: 0.4193 - val_accuracy: 0.8538\n",
            "Epoch 27/100\n",
            "703/703 [==============================] - 25s 36ms/step - loss: 0.4834 - accuracy: 0.8369 - val_loss: 0.4496 - val_accuracy: 0.8490\n",
            "Epoch 28/100\n",
            "703/703 [==============================] - 26s 37ms/step - loss: 0.4752 - accuracy: 0.8398 - val_loss: 0.4269 - val_accuracy: 0.8540\n",
            "Epoch 29/100\n",
            "703/703 [==============================] - 26s 37ms/step - loss: 0.4698 - accuracy: 0.8400 - val_loss: 0.4328 - val_accuracy: 0.8548\n",
            "Epoch 30/100\n",
            "703/703 [==============================] - 26s 36ms/step - loss: 0.4637 - accuracy: 0.8428 - val_loss: 0.4496 - val_accuracy: 0.8464\n",
            "Epoch 31/100\n",
            "703/703 [==============================] - 26s 37ms/step - loss: 0.4645 - accuracy: 0.8405 - val_loss: 0.4350 - val_accuracy: 0.8528\n",
            "Epoch 32/100\n",
            "703/703 [==============================] - 26s 36ms/step - loss: 0.4502 - accuracy: 0.8471 - val_loss: 0.4442 - val_accuracy: 0.8516\n",
            "Epoch 33/100\n",
            "703/703 [==============================] - 25s 35ms/step - loss: 0.4469 - accuracy: 0.8493 - val_loss: 0.3785 - val_accuracy: 0.8694\n",
            "Epoch 34/100\n",
            "703/703 [==============================] - 25s 35ms/step - loss: 0.4399 - accuracy: 0.8516 - val_loss: 0.4033 - val_accuracy: 0.8638\n",
            "Epoch 35/100\n",
            "703/703 [==============================] - 25s 36ms/step - loss: 0.4365 - accuracy: 0.8503 - val_loss: 0.3877 - val_accuracy: 0.8674\n",
            "Epoch 36/100\n",
            "703/703 [==============================] - 24s 34ms/step - loss: 0.4273 - accuracy: 0.8553 - val_loss: 0.3960 - val_accuracy: 0.8672\n",
            "Epoch 37/100\n",
            "703/703 [==============================] - 25s 36ms/step - loss: 0.4336 - accuracy: 0.8531 - val_loss: 0.4307 - val_accuracy: 0.8548\n",
            "Epoch 38/100\n",
            "703/703 [==============================] - 25s 35ms/step - loss: 0.4241 - accuracy: 0.8545 - val_loss: 0.3995 - val_accuracy: 0.8646\n",
            "Epoch 39/100\n",
            "703/703 [==============================] - 26s 37ms/step - loss: 0.4271 - accuracy: 0.8558 - val_loss: 0.4031 - val_accuracy: 0.8640\n",
            "Epoch 40/100\n",
            "703/703 [==============================] - 25s 35ms/step - loss: 0.4169 - accuracy: 0.8588 - val_loss: 0.3773 - val_accuracy: 0.8680\n",
            "Epoch 41/100\n",
            "703/703 [==============================] - 25s 36ms/step - loss: 0.4156 - accuracy: 0.8578 - val_loss: 0.3884 - val_accuracy: 0.8656\n",
            "Epoch 42/100\n",
            "703/703 [==============================] - 25s 35ms/step - loss: 0.4113 - accuracy: 0.8613 - val_loss: 0.4249 - val_accuracy: 0.8560\n",
            "Epoch 43/100\n",
            "703/703 [==============================] - 25s 35ms/step - loss: 0.4094 - accuracy: 0.8604 - val_loss: 0.3974 - val_accuracy: 0.8702\n",
            "Epoch 44/100\n",
            "703/703 [==============================] - 25s 36ms/step - loss: 0.4029 - accuracy: 0.8608 - val_loss: 0.3732 - val_accuracy: 0.8738\n",
            "Epoch 45/100\n",
            "703/703 [==============================] - 25s 35ms/step - loss: 0.4064 - accuracy: 0.8612 - val_loss: 0.3992 - val_accuracy: 0.8674\n",
            "Epoch 46/100\n",
            "703/703 [==============================] - 25s 36ms/step - loss: 0.4001 - accuracy: 0.8639 - val_loss: 0.4034 - val_accuracy: 0.8660\n",
            "Epoch 47/100\n",
            "703/703 [==============================] - 25s 35ms/step - loss: 0.3974 - accuracy: 0.8669 - val_loss: 0.3827 - val_accuracy: 0.8732\n",
            "Epoch 48/100\n",
            "703/703 [==============================] - 25s 35ms/step - loss: 0.3982 - accuracy: 0.8653 - val_loss: 0.4169 - val_accuracy: 0.8610\n",
            "Epoch 49/100\n",
            "703/703 [==============================] - 25s 36ms/step - loss: 0.3963 - accuracy: 0.8651 - val_loss: 0.4303 - val_accuracy: 0.8620\n",
            "Epoch 50/100\n",
            "703/703 [==============================] - 25s 35ms/step - loss: 0.3899 - accuracy: 0.8658 - val_loss: 0.4406 - val_accuracy: 0.8578\n",
            "Epoch 51/100\n",
            "703/703 [==============================] - 25s 35ms/step - loss: 0.3812 - accuracy: 0.8688 - val_loss: 0.3952 - val_accuracy: 0.8710\n",
            "Epoch 52/100\n",
            "703/703 [==============================] - 25s 36ms/step - loss: 0.3835 - accuracy: 0.8671 - val_loss: 0.4254 - val_accuracy: 0.8650\n",
            "Epoch 53/100\n",
            "703/703 [==============================] - 25s 35ms/step - loss: 0.3850 - accuracy: 0.8692 - val_loss: 0.3848 - val_accuracy: 0.8748\n",
            "Epoch 54/100\n",
            "703/703 [==============================] - 25s 35ms/step - loss: 0.3778 - accuracy: 0.8700 - val_loss: 0.3567 - val_accuracy: 0.8804\n",
            "Epoch 55/100\n",
            "703/703 [==============================] - 25s 36ms/step - loss: 0.3802 - accuracy: 0.8723 - val_loss: 0.3561 - val_accuracy: 0.8772\n",
            "Epoch 56/100\n",
            "703/703 [==============================] - 26s 36ms/step - loss: 0.3733 - accuracy: 0.8738 - val_loss: 0.4146 - val_accuracy: 0.8628\n",
            "Epoch 57/100\n",
            "703/703 [==============================] - 25s 35ms/step - loss: 0.3688 - accuracy: 0.8746 - val_loss: 0.3542 - val_accuracy: 0.8820\n",
            "Epoch 58/100\n",
            "703/703 [==============================] - 25s 36ms/step - loss: 0.3650 - accuracy: 0.8742 - val_loss: 0.3811 - val_accuracy: 0.8742\n",
            "Epoch 59/100\n",
            "703/703 [==============================] - 25s 36ms/step - loss: 0.3655 - accuracy: 0.8755 - val_loss: 0.3444 - val_accuracy: 0.8806\n",
            "Epoch 60/100\n",
            "703/703 [==============================] - 25s 35ms/step - loss: 0.3628 - accuracy: 0.8768 - val_loss: 0.4200 - val_accuracy: 0.8632\n",
            "Epoch 61/100\n",
            "703/703 [==============================] - 25s 35ms/step - loss: 0.3653 - accuracy: 0.8746 - val_loss: 0.3498 - val_accuracy: 0.8848\n",
            "Epoch 62/100\n",
            "703/703 [==============================] - 25s 35ms/step - loss: 0.3577 - accuracy: 0.8789 - val_loss: 0.3536 - val_accuracy: 0.8826\n",
            "Epoch 63/100\n",
            "703/703 [==============================] - 25s 35ms/step - loss: 0.3562 - accuracy: 0.8775 - val_loss: 0.3492 - val_accuracy: 0.8828\n",
            "Epoch 64/100\n",
            "703/703 [==============================] - 24s 35ms/step - loss: 0.3574 - accuracy: 0.8782 - val_loss: 0.3429 - val_accuracy: 0.8838\n",
            "Epoch 65/100\n",
            "703/703 [==============================] - 25s 35ms/step - loss: 0.3603 - accuracy: 0.8751 - val_loss: 0.3807 - val_accuracy: 0.8746\n",
            "Epoch 66/100\n",
            "703/703 [==============================] - 25s 36ms/step - loss: 0.3499 - accuracy: 0.8789 - val_loss: 0.3473 - val_accuracy: 0.8862\n",
            "Epoch 67/100\n",
            "703/703 [==============================] - 25s 36ms/step - loss: 0.3510 - accuracy: 0.8793 - val_loss: 0.3481 - val_accuracy: 0.8826\n",
            "Epoch 68/100\n",
            "703/703 [==============================] - 25s 35ms/step - loss: 0.3489 - accuracy: 0.8806 - val_loss: 0.3796 - val_accuracy: 0.8726\n",
            "Epoch 69/100\n",
            "703/703 [==============================] - 25s 35ms/step - loss: 0.3461 - accuracy: 0.8816 - val_loss: 0.3969 - val_accuracy: 0.8736\n",
            "Epoch 70/100\n",
            "703/703 [==============================] - 24s 35ms/step - loss: 0.3454 - accuracy: 0.8811 - val_loss: 0.3577 - val_accuracy: 0.8808\n",
            "Epoch 71/100\n",
            "703/703 [==============================] - 25s 35ms/step - loss: 0.3438 - accuracy: 0.8811 - val_loss: 0.3518 - val_accuracy: 0.8818\n",
            "Epoch 72/100\n",
            "703/703 [==============================] - 25s 35ms/step - loss: 0.3467 - accuracy: 0.8823 - val_loss: 0.4252 - val_accuracy: 0.8608\n",
            "Epoch 73/100\n",
            "703/703 [==============================] - 24s 35ms/step - loss: 0.3471 - accuracy: 0.8812 - val_loss: 0.3582 - val_accuracy: 0.8826\n",
            "Epoch 74/100\n",
            "703/703 [==============================] - 24s 35ms/step - loss: 0.3428 - accuracy: 0.8831 - val_loss: 0.3682 - val_accuracy: 0.8782\n",
            "Epoch 75/100\n",
            "703/703 [==============================] - 25s 36ms/step - loss: 0.3407 - accuracy: 0.8845 - val_loss: 0.3391 - val_accuracy: 0.8892\n",
            "Epoch 76/100\n",
            "703/703 [==============================] - 25s 35ms/step - loss: 0.3333 - accuracy: 0.8864 - val_loss: 0.3562 - val_accuracy: 0.8840\n",
            "Epoch 77/100\n",
            "703/703 [==============================] - 24s 35ms/step - loss: 0.3318 - accuracy: 0.8863 - val_loss: 0.3366 - val_accuracy: 0.8860\n",
            "Epoch 78/100\n",
            "703/703 [==============================] - 25s 35ms/step - loss: 0.3368 - accuracy: 0.8843 - val_loss: 0.3252 - val_accuracy: 0.8932\n",
            "Epoch 79/100\n",
            "703/703 [==============================] - 25s 35ms/step - loss: 0.3335 - accuracy: 0.8857 - val_loss: 0.3285 - val_accuracy: 0.8918\n",
            "Epoch 80/100\n",
            "703/703 [==============================] - 25s 36ms/step - loss: 0.3274 - accuracy: 0.8877 - val_loss: 0.3694 - val_accuracy: 0.8788\n",
            "Epoch 81/100\n",
            "703/703 [==============================] - 25s 35ms/step - loss: 0.3315 - accuracy: 0.8880 - val_loss: 0.3175 - val_accuracy: 0.8920\n",
            "Epoch 82/100\n",
            "703/703 [==============================] - 24s 35ms/step - loss: 0.3293 - accuracy: 0.8872 - val_loss: 0.3350 - val_accuracy: 0.8862\n",
            "Epoch 83/100\n",
            "703/703 [==============================] - 25s 35ms/step - loss: 0.3262 - accuracy: 0.8876 - val_loss: 0.3430 - val_accuracy: 0.8876\n",
            "Epoch 84/100\n",
            "703/703 [==============================] - 25s 36ms/step - loss: 0.3276 - accuracy: 0.8865 - val_loss: 0.3486 - val_accuracy: 0.8870\n",
            "Epoch 85/100\n",
            "703/703 [==============================] - 25s 36ms/step - loss: 0.3236 - accuracy: 0.8898 - val_loss: 0.3308 - val_accuracy: 0.8872\n",
            "Epoch 86/100\n",
            "703/703 [==============================] - 25s 35ms/step - loss: 0.3249 - accuracy: 0.8888 - val_loss: 0.3643 - val_accuracy: 0.8796\n",
            "Epoch 87/100\n",
            "703/703 [==============================] - 25s 35ms/step - loss: 0.3227 - accuracy: 0.8889 - val_loss: 0.3610 - val_accuracy: 0.8806\n",
            "Epoch 88/100\n",
            "703/703 [==============================] - 25s 35ms/step - loss: 0.3225 - accuracy: 0.8890 - val_loss: 0.3537 - val_accuracy: 0.8852\n",
            "Epoch 89/100\n",
            "703/703 [==============================] - 25s 35ms/step - loss: 0.3236 - accuracy: 0.8901 - val_loss: 0.3543 - val_accuracy: 0.8834\n",
            "Epoch 90/100\n",
            "703/703 [==============================] - 25s 36ms/step - loss: 0.3200 - accuracy: 0.8898 - val_loss: 0.3762 - val_accuracy: 0.8758\n",
            "Epoch 91/100\n",
            "703/703 [==============================] - 24s 35ms/step - loss: 0.3155 - accuracy: 0.8918 - val_loss: 0.3752 - val_accuracy: 0.8816\n",
            "Epoch 92/100\n",
            "703/703 [==============================] - 25s 35ms/step - loss: 0.3187 - accuracy: 0.8892 - val_loss: 0.3442 - val_accuracy: 0.8892\n",
            "Epoch 93/100\n",
            "703/703 [==============================] - 25s 35ms/step - loss: 0.3277 - accuracy: 0.8874 - val_loss: 0.3189 - val_accuracy: 0.8922\n",
            "Epoch 94/100\n",
            "703/703 [==============================] - 25s 36ms/step - loss: 0.3164 - accuracy: 0.8900 - val_loss: 0.3431 - val_accuracy: 0.8824\n",
            "Epoch 95/100\n",
            "703/703 [==============================] - 25s 35ms/step - loss: 0.3127 - accuracy: 0.8933 - val_loss: 0.3369 - val_accuracy: 0.8914\n",
            "Epoch 96/100\n",
            "703/703 [==============================] - 24s 35ms/step - loss: 0.3132 - accuracy: 0.8936 - val_loss: 0.3252 - val_accuracy: 0.8924\n",
            "Epoch 97/100\n",
            "703/703 [==============================] - 25s 35ms/step - loss: 0.3129 - accuracy: 0.8929 - val_loss: 0.3042 - val_accuracy: 0.8974\n",
            "Epoch 98/100\n",
            "703/703 [==============================] - 24s 35ms/step - loss: 0.3117 - accuracy: 0.8934 - val_loss: 0.3277 - val_accuracy: 0.8914\n",
            "Epoch 99/100\n",
            "703/703 [==============================] - 25s 36ms/step - loss: 0.3054 - accuracy: 0.8931 - val_loss: 0.3123 - val_accuracy: 0.8960\n",
            "Epoch 100/100\n",
            "703/703 [==============================] - 25s 35ms/step - loss: 0.3101 - accuracy: 0.8934 - val_loss: 0.3372 - val_accuracy: 0.8864\n"
          ]
        }
      ],
      "source": [
        "# fit model\n",
        "steps = int(X_train.shape[0] / 64)\n",
        "history = model.fit_generator(it_train, steps_per_epoch=steps, epochs=100, validation_data= (X_val, y_val), verbose=1)"
      ]
    },
    {
      "cell_type": "code",
      "execution_count": 45,
      "metadata": {
        "colab": {
          "base_uri": "https://localhost:8080/"
        },
        "id": "kyxnVJmaILYl",
        "outputId": "1fe97e6b-d06f-44e9-8b84-0d455e63365d"
      },
      "outputs": [
        {
          "name": "stdout",
          "output_type": "stream",
          "text": [
            "313/313 [==============================] - 2s 5ms/step - loss: 0.3548 - accuracy: 0.8831\n",
            "> 88.310\n"
          ]
        }
      ],
      "source": [
        "_, acc = model.evaluate(X_test, y_test, verbose=1)\n",
        "print('> %.3f' % (acc * 100.0))"
      ]
    },
    {
      "cell_type": "code",
      "execution_count": 46,
      "metadata": {
        "colab": {
          "base_uri": "https://localhost:8080/",
          "height": 299
        },
        "id": "WUgGYcPRILYl",
        "outputId": "4da29258-6070-42d4-88cc-7531aeb157fe"
      },
      "outputs": [
        {
          "data": {
            "text/plain": [
              "[<matplotlib.lines.Line2D at 0x7fb1ac1f0910>]"
            ]
          },
          "execution_count": 46,
          "metadata": {},
          "output_type": "execute_result"
        },
        {
          "data": {
            "image/png": "[encoded data removed]",
            "text/plain": [
              "<Figure size 432x288 with 2 Axes>"
            ]
          },
          "metadata": {
            "needs_background": "light"
          },
          "output_type": "display_data"
        }
      ],
      "source": [
        "pyplot.subplot(211)\n",
        "pyplot.title('Cross Entropy Loss')\n",
        "pyplot.plot(history.history['loss'], color='blue', label='train')\n",
        "pyplot.plot(history.history['val_loss'], color='orange', label='test')\n",
        "# plot accuracy\n",
        "pyplot.subplot(212)\n",
        "pyplot.title('Classification Accuracy')\n",
        "pyplot.plot(history.history['accuracy'], color='blue', label='train')\n",
        "pyplot.plot(history.history['val_accuracy'], color='orange', label='test')"
      ]
    },
    {
      "cell_type": "markdown",
      "metadata": {
        "id": "9ExZZvivILYm"
      },
      "source": [
        "**Saving The model**"
      ]
    },
    {
      "cell_type": "code",
      "execution_count": 47,
      "metadata": {
        "id": "8U1w1HmZILYm"
      },
      "outputs": [],
      "source": [
        "# save model\n",
        "model.save('final_model.h5')"
      ]
    },
    {
      "cell_type": "markdown",
      "metadata": {
        "id": "UxYYd8g4ILYm"
      },
      "source": [
        "Discussing and further improvements"
      ]
    },
    {
      "cell_type": "markdown",
      "metadata": {},
      "source": [
        "## Sources"
      ]
    },
    {
      "cell_type": "markdown",
      "metadata": {},
      "source": [
        "- Hands-On Machine Learning with Scikit-Learn, Keras and TensorFlow by Aurélien Géron (O’Reilly). Copyright 2019 Aurélien Géron, 978-1-492-03264-9\n",
        "- https://machinelearningmastery.com/how-to-develop-a-cnn-from-scratch-for-cifar-10-photo-classification/\n",
        "- http://introtodeeplearning.com/\n",
        "- https://course.fast.ai/\n",
        "- https://pyimagesearch.com/\n",
        "- https://sisu.ut.ee/imageprocessing/book/6\n",
        "- https://www.simplilearn.com/image-processing-article\n",
        "- https://pythonprogramming.net/color-filter-python-opencv-tutorial/\n",
        "- https://www.analyticsvidhya.com/blog/2021/05/image-processing-using-opencv-with-practical-examples/#h2_11\n",
        "- https://www.youtube.com/watch?v=1_hwFc8PXVE&list=PL2zRqk16wsdorCSZ5GWZQr1EMWXs2TDeu&index=7"
      ]
    }
  ],
  "metadata": {
    "accelerator": "GPU",
    "colab": {
      "collapsed_sections": [],
      "provenance": []
    },
    "kernelspec": {
      "display_name": "Python 3.7.9 64-bit",
      "language": "python",
      "name": "python3"
    },
    "language_info": {
      "codemirror_mode": {
        "name": "ipython",
        "version": 3
      },
      "file_extension": ".py",
      "mimetype": "text/x-python",
      "name": "python",
      "nbconvert_exporter": "python",
      "pygments_lexer": "ipython3",
      "version": "3.7.9"
    },
    "orig_nbformat": 4,
    "vscode": {
      "interpreter": {
        "hash": "99887611a3b5ebbd8a07ea48bb13d66e0fa7e73358c40850c8a363e543e054a3"
      }
    }
  },
  "nbformat": 4,
  "nbformat_minor": 0
}
